{
 "cells": [
  {
   "cell_type": "code",
   "execution_count": 204,
   "metadata": {},
   "outputs": [
    {
     "name": "stdout",
     "output_type": "stream",
     "text": [
      "The autoreload extension is already loaded. To reload it, use:\n",
      "  %reload_ext autoreload\n"
     ]
    }
   ],
   "source": [
    "import pandas as pd\n",
    "import numpy as np\n",
    "import seaborn as sns\n",
    "import pickle, warnings\n",
    "import shap\n",
    "\n",
    "from fair_func import *\n",
    "from fair_metrics import *\n",
    "from ACF import ACF\n",
    "\n",
    "\n",
    "from xgboost import XGBClassifier\n",
    "from sklearn.metrics import mutual_info_score, recall_score, f1_score, roc_curve, auc, accuracy_score\n",
    "from sklearn.model_selection import train_test_split, GridSearchCV\n",
    "from sklearn.preprocessing import StandardScaler\n",
    "from statsmodels.stats.outliers_influence import variance_inflation_factor\n",
    "from sklearn.ensemble import RandomForestClassifier\n",
    "from sklearn.linear_model import LogisticRegression \n",
    "from joblib import Parallel, delayed\n",
    "from diffprivlib import models as dp\n",
    "from datetime import datetime\n",
    "\n",
    "\n",
    "pd.set_option(\"display.max_columns\", None)\n",
    "pd.set_option(\"display.max_rows\", None)\n",
    "warnings.filterwarnings(\"ignore\")\n",
    "\n",
    "scaler = StandardScaler()\n",
    "\n",
    "%load_ext autoreload\n",
    "%autoreload 2"
   ]
  },
  {
   "cell_type": "code",
   "execution_count": 205,
   "metadata": {},
   "outputs": [
    {
     "data": {
      "text/plain": [
       "(4424, 37)"
      ]
     },
     "execution_count": 205,
     "metadata": {},
     "output_type": "execute_result"
    }
   ],
   "source": [
    "df = pd.read_csv('data.csv', sep=\";\")\n",
    "df.shape"
   ]
  },
  {
   "attachments": {},
   "cell_type": "markdown",
   "metadata": {},
   "source": [
    "## Target\n",
    "\n",
    "We converted 3-class problem into 2-class problem by merging ```Enrolled``` and ```Graduate``` as one class.\n",
    "\n",
    "The ```Target``` column gives whether the student will dropout or not where 1 means Dropout and 0 means not"
   ]
  },
  {
   "cell_type": "code",
   "execution_count": 206,
   "metadata": {},
   "outputs": [],
   "source": [
    "df.Target.replace(['Enrolled', 'Graduate'], 0, inplace=True)\n",
    "df.Target.replace('Dropout', 1, inplace=True)"
   ]
  },
  {
   "attachments": {},
   "cell_type": "markdown",
   "metadata": {},
   "source": [
    "## Nacionality\n",
    "\n",
    "- 1 - Portuguese\n",
    "- 2 - German\n",
    "- 6 - Spanish\n",
    "- 11 - Italian\n",
    "- 13 - Dutch\n",
    "- 14 - English\n",
    "- 17 - Lithuanian\n",
    "- 21 - Angolan\n",
    "- 22 - Cape Verdean\n",
    "- 24 - Guinean\n",
    "- 25 - Mozambican\n",
    "- 26 - Santomean\n",
    "- 32 - Turkish\n",
    "- 41 - Brazilian\n",
    "- 62 - Romanian\n",
    "- 100 - Moldova (Republic of)\n",
    "- 101 - Mexican\n",
    "- 103 - Ukrainian\n",
    "- 105 - Russian\n",
    "- 108 - Cuban\n",
    "- 109 - Colombian\t\n",
    "\n",
    "### Combinations:\n",
    "- 1 as \"Portuguese\"\n",
    "- remaining as \"Others\""
   ]
  },
  {
   "cell_type": "code",
   "execution_count": 207,
   "metadata": {},
   "outputs": [
    {
     "data": {
      "text/plain": [
       "0    4314\n",
       "1     110\n",
       "Name: Nacionality, dtype: int64"
      ]
     },
     "execution_count": 207,
     "metadata": {},
     "output_type": "execute_result"
    }
   ],
   "source": [
    "df.Nacionality.replace(1, 0, inplace=True)\n",
    "df.Nacionality.replace(list(range(2, 110)), 1, inplace=True)\n",
    "\n",
    "df.Nacionality.value_counts()"
   ]
  },
  {
   "cell_type": "code",
   "execution_count": 208,
   "metadata": {},
   "outputs": [
    {
     "data": {
      "text/html": [
       "<div>\n",
       "<style scoped>\n",
       "    .dataframe tbody tr th:only-of-type {\n",
       "        vertical-align: middle;\n",
       "    }\n",
       "\n",
       "    .dataframe tbody tr th {\n",
       "        vertical-align: top;\n",
       "    }\n",
       "\n",
       "    .dataframe thead th {\n",
       "        text-align: right;\n",
       "    }\n",
       "</style>\n",
       "<table border=\"1\" class=\"dataframe\">\n",
       "  <thead>\n",
       "    <tr style=\"text-align: right;\">\n",
       "      <th></th>\n",
       "      <th>International</th>\n",
       "      <th>Nacionality</th>\n",
       "    </tr>\n",
       "  </thead>\n",
       "  <tbody>\n",
       "    <tr>\n",
       "      <th>International</th>\n",
       "      <td>1.0</td>\n",
       "      <td>1.0</td>\n",
       "    </tr>\n",
       "    <tr>\n",
       "      <th>Nacionality</th>\n",
       "      <td>1.0</td>\n",
       "      <td>1.0</td>\n",
       "    </tr>\n",
       "  </tbody>\n",
       "</table>\n",
       "</div>"
      ],
      "text/plain": [
       "               International  Nacionality\n",
       "International            1.0          1.0\n",
       "Nacionality              1.0          1.0"
      ]
     },
     "execution_count": 208,
     "metadata": {},
     "output_type": "execute_result"
    }
   ],
   "source": [
    "df[['International', 'Nacionality']].corr()"
   ]
  },
  {
   "attachments": {},
   "cell_type": "markdown",
   "metadata": {},
   "source": [
    "Since there is direct relation between ```International``` and ```Nacionality```, we are dropping ```Internatinoal``` column from our dataset"
   ]
  },
  {
   "cell_type": "code",
   "execution_count": 209,
   "metadata": {},
   "outputs": [],
   "source": [
    "df.drop('International', axis=1, inplace=True)"
   ]
  },
  {
   "attachments": {},
   "cell_type": "markdown",
   "metadata": {},
   "source": [
    "We have an unsaid rule that the qualification is directly related to the occupation of the person. Therefore, we are removing the ```Father's Qualification``` and ```Mother's Occupation``` from our dataset."
   ]
  },
  {
   "cell_type": "code",
   "execution_count": 210,
   "metadata": {},
   "outputs": [],
   "source": [
    "df.drop(['Father_qualification', 'Mother_occupation'], axis=1, inplace=True)"
   ]
  },
  {
   "attachments": {},
   "cell_type": "markdown",
   "metadata": {},
   "source": [
    "## Marital Status:\n",
    "- 1 – single 2 – married 3 – widower 4 – divorced 5 – facto union 6 – legally separated\n",
    "- Since the column had 5 status, we converted them into 2 status ```Married``` and ```Un-Married```\n",
    "- Our binning is done in the following manner:\n",
    "    - Married and Facto Union as ```Married``` and is labelled as ```1```\n",
    "    - Remaining as ```Un-Married``` and is labelled as ```0```"
   ]
  },
  {
   "cell_type": "code",
   "execution_count": 211,
   "metadata": {},
   "outputs": [
    {
     "data": {
      "text/plain": [
       "0    4020\n",
       "1     404\n",
       "Name: Marital_status, dtype: int64"
      ]
     },
     "execution_count": 211,
     "metadata": {},
     "output_type": "execute_result"
    }
   ],
   "source": [
    "df.Marital_status.replace([1, 3, 4, 6], 0, inplace=True)\n",
    "df.Marital_status.replace([2, 5], 1, inplace=True)\n",
    "\n",
    "df.Marital_status.value_counts()"
   ]
  },
  {
   "attachments": {},
   "cell_type": "markdown",
   "metadata": {},
   "source": [
    "## Application Mode:\n",
    "- 1 - 1st phase - general contingent \n",
    "- 2 - Ordinance No. 612/93 \n",
    "- 5 - 1st phase - special contingent (Azores Island) \n",
    "- 7 - Holders of other higher courses \n",
    "- 10 - Ordinance No. 854-B/99 \n",
    "- 15 - International student (bachelor) \n",
    "- 16 - 1st phase - special contingent (Madeira Island) \n",
    "- 17 - 2nd phase - general contingent \n",
    "- 18 - 3rd phase - general contingent \n",
    "- 26 - Ordinance No. 533-A/99, item b2) (Different Plan) \n",
    "- 27 - Ordinance No. 533-A/99, item b3 (Other Institution) \n",
    "- 39 - Over 23 years old \n",
    "- 42 - Transfer \n",
    "- 43 - Change of course \n",
    "- 44 - Technological specialization diploma holders \n",
    "- 51 - Change of institution/course \n",
    "- 53 - Short cycle diploma holders \n",
    "- 57 - Change of institution/course (International)\n",
    "\n",
    "From above entries:\n",
    "- 2, 26, 27, 10 can be clubbed into one \"Others\"\n",
    "- 1, 5, 16 cab be combined into \"First_Phase\"\n",
    "- 43, 51, 57 can be clubbed into \"Course_Change\"\n",
    "- 7, 44, 53 can be clubbed into \"Courses_Holders\"\n",
    "- 17, 18 can be clubbed into \"Last_Phase\"\n",
    "- 15, 42 can be clubbed into \"Transfer\"\n",
    "- 39 => \"OverAge\""
   ]
  },
  {
   "cell_type": "code",
   "execution_count": 212,
   "metadata": {},
   "outputs": [],
   "source": [
    "df.Application_mode.replace([2, 26, 27, 10], 'Others', inplace=True)\n",
    "df.Application_mode.replace([1, 5, 16], \"First_Phase\", inplace=True)\n",
    "df.Application_mode.replace([43, 51, 57], \"Course_Change\", inplace=True)\n",
    "df.Application_mode.replace([7, 44, 53], \"Courses_Holders\", inplace=True)\n",
    "df.Application_mode.replace([17, 18], \"Last_Phase\", inplace=True)\n",
    "df.Application_mode.replace([15, 42], \"Transfer\", inplace=True)\n",
    "df.Application_mode.replace(39, \"OverAge\", inplace=True)"
   ]
  },
  {
   "attachments": {},
   "cell_type": "markdown",
   "metadata": {},
   "source": [
    "## Application Order\n",
    "- Application order (between 0 - first choice; and 9 last choice)\n",
    "- Combinations:\n",
    "    - 0, 1 as \"First_Choice\"\n",
    "    - 2 as \"Second_Choice\"\n",
    "    - 3, 4 as \"Second_Last_Choice\"\n",
    "    - 5, 6, 9 as \"Last_Choice\""
   ]
  },
  {
   "cell_type": "code",
   "execution_count": 213,
   "metadata": {},
   "outputs": [
    {
     "data": {
      "text/plain": [
       "1    3026\n",
       "2     547\n",
       "3     309\n",
       "4     249\n",
       "5     154\n",
       "6     137\n",
       "9       1\n",
       "0       1\n",
       "Name: Application_order, dtype: int64"
      ]
     },
     "execution_count": 213,
     "metadata": {},
     "output_type": "execute_result"
    }
   ],
   "source": [
    "df.Application_order.value_counts()"
   ]
  },
  {
   "attachments": {},
   "cell_type": "markdown",
   "metadata": {},
   "source": [
    "## Course\n",
    "- 33 - Biofuel Production Technologies \n",
    "- 171 - Animation and Multimedia Design \n",
    "- 8014 - Social Service (evening attendance) \n",
    "- 9003 - Agronomy \n",
    "- 9070 - Communication Design \n",
    "- 9085 - Veterinary Nursing \n",
    "- 9119 - Informatics Engineering \n",
    "- 9130 - Equinculture \n",
    "- 9147 - Management \n",
    "- 9238 - Social Service \n",
    "- 9254 - Tourism \n",
    "- 9500 - Nursing \n",
    "- 9556 - Oral Hygiene \n",
    "- 9670 - Advertising and Marketing Management \n",
    "- 9773 - Journalism and Communication \n",
    "- 9853 - Basic Education \n",
    "- 9991 - Management (evening attendance)\n",
    "\n",
    "Combinations: \n",
    "- 9085, 9500, 9556 as \"Medical\"\n",
    "- 9147, 9670, 9991 as \"Management\"\n",
    "- 33, 171, 9119 as \"Technology\"\n",
    "- 9003, 9130 as \"Nature\"\n",
    "- 9238, 8014 as \"Social_Service\"\n",
    "- 9070, 9773 as \"Communication\"\n",
    "- 9254, 9853 as \"Others\"\n",
    "\n",
    "We have combined the values into the above 7 courses and will be applicabe for One-Hot Encoding."
   ]
  },
  {
   "cell_type": "code",
   "execution_count": 214,
   "metadata": {},
   "outputs": [
    {
     "data": {
      "text/html": [
       "<div>\n",
       "<style scoped>\n",
       "    .dataframe tbody tr th:only-of-type {\n",
       "        vertical-align: middle;\n",
       "    }\n",
       "\n",
       "    .dataframe tbody tr th {\n",
       "        vertical-align: top;\n",
       "    }\n",
       "\n",
       "    .dataframe thead th {\n",
       "        text-align: right;\n",
       "    }\n",
       "</style>\n",
       "<table border=\"1\" class=\"dataframe\">\n",
       "  <thead>\n",
       "    <tr style=\"text-align: right;\">\n",
       "      <th>Course</th>\n",
       "      <th>Communication</th>\n",
       "      <th>Management</th>\n",
       "      <th>Medical</th>\n",
       "      <th>Nature</th>\n",
       "      <th>Others</th>\n",
       "      <th>Social_Service</th>\n",
       "      <th>Technology</th>\n",
       "    </tr>\n",
       "    <tr>\n",
       "      <th>Target</th>\n",
       "      <th></th>\n",
       "      <th></th>\n",
       "      <th></th>\n",
       "      <th></th>\n",
       "      <th></th>\n",
       "      <th></th>\n",
       "      <th></th>\n",
       "    </tr>\n",
       "  </thead>\n",
       "  <tbody>\n",
       "    <tr>\n",
       "      <th>0</th>\n",
       "      <td>405</td>\n",
       "      <td>551</td>\n",
       "      <td>948</td>\n",
       "      <td>187</td>\n",
       "      <td>263</td>\n",
       "      <td>434</td>\n",
       "      <td>215</td>\n",
       "    </tr>\n",
       "    <tr>\n",
       "      <th>1</th>\n",
       "      <td>152</td>\n",
       "      <td>365</td>\n",
       "      <td>241</td>\n",
       "      <td>164</td>\n",
       "      <td>181</td>\n",
       "      <td>136</td>\n",
       "      <td>182</td>\n",
       "    </tr>\n",
       "  </tbody>\n",
       "</table>\n",
       "</div>"
      ],
      "text/plain": [
       "Course  Communication  Management  Medical  Nature  Others  Social_Service  \\\n",
       "Target                                                                       \n",
       "0                 405         551      948     187     263             434   \n",
       "1                 152         365      241     164     181             136   \n",
       "\n",
       "Course  Technology  \n",
       "Target              \n",
       "0              215  \n",
       "1              182  "
      ]
     },
     "execution_count": 214,
     "metadata": {},
     "output_type": "execute_result"
    }
   ],
   "source": [
    "df.Course.replace([9085, 9500, 9556], \"Medical\", inplace=True)\n",
    "df.Course.replace([9147, 9670, 9991], \"Management\", inplace=True)\n",
    "df.Course.replace([33, 171, 9119], \"Technology\", inplace=True)\n",
    "df.Course.replace([9003, 9130], \"Nature\", inplace=True)\n",
    "df.Course.replace([9238, 8014], \"Social_Service\", inplace=True)\n",
    "df.Course.replace([9070, 9773], \"Communication\", inplace=True)\n",
    "df.Course.replace([9254, 9853], \"Others\", inplace=True)\n",
    "\n",
    "pd.crosstab(df.Target, df.Course)"
   ]
  },
  {
   "attachments": {},
   "cell_type": "markdown",
   "metadata": {},
   "source": [
    "## Previous Qualification\n",
    "\n",
    "- 1 - Secondary education \n",
    "- 2 - Higher education - bachelor's degree \n",
    "- 3 - Higher education - degree \n",
    "- 4 - Higher education - master's \n",
    "- 5 - Higher education - doctorate \n",
    "- 6 - Frequency of higher education \n",
    "- 9 - 12th year of schooling - not completed \n",
    "- 10 - 11th year of schooling - not completed \n",
    "- 12 - Other - 11th year of schooling \n",
    "- 14 - 10th year of schooling \n",
    "- 15 - 10th year of schooling - not completed \n",
    "- 19 - Basic education 3rd cycle (9th/10th/11th year) or equiv. \n",
    "- 38 - Basic education 2nd cycle (6th/7th/8th year) or equiv. \n",
    "- 39 - Technological specialization course \n",
    "- 40 - Higher education - degree (1st cycle) \n",
    "- 42 - Professional higher technical course \n",
    "- 43 - Higher education - master (2nd cycle)\n",
    "\n",
    "We have combined the values into 4 generic labels "
   ]
  },
  {
   "cell_type": "code",
   "execution_count": 215,
   "metadata": {},
   "outputs": [
    {
     "data": {
      "text/html": [
       "<div>\n",
       "<style scoped>\n",
       "    .dataframe tbody tr th:only-of-type {\n",
       "        vertical-align: middle;\n",
       "    }\n",
       "\n",
       "    .dataframe tbody tr th {\n",
       "        vertical-align: top;\n",
       "    }\n",
       "\n",
       "    .dataframe thead th {\n",
       "        text-align: right;\n",
       "    }\n",
       "</style>\n",
       "<table border=\"1\" class=\"dataframe\">\n",
       "  <thead>\n",
       "    <tr style=\"text-align: right;\">\n",
       "      <th>Previous_qualification</th>\n",
       "      <th>Basic_Education</th>\n",
       "      <th>Graduation_plus</th>\n",
       "      <th>High_School_Eq</th>\n",
       "    </tr>\n",
       "    <tr>\n",
       "      <th>Target</th>\n",
       "      <th></th>\n",
       "      <th></th>\n",
       "      <th></th>\n",
       "    </tr>\n",
       "  </thead>\n",
       "  <tbody>\n",
       "    <tr>\n",
       "      <th>0</th>\n",
       "      <td>5</td>\n",
       "      <td>281</td>\n",
       "      <td>2717</td>\n",
       "    </tr>\n",
       "    <tr>\n",
       "      <th>1</th>\n",
       "      <td>5</td>\n",
       "      <td>194</td>\n",
       "      <td>1222</td>\n",
       "    </tr>\n",
       "  </tbody>\n",
       "</table>\n",
       "</div>"
      ],
      "text/plain": [
       "Previous_qualification  Basic_Education  Graduation_plus  High_School_Eq\n",
       "Target                                                                  \n",
       "0                                     5              281            2717\n",
       "1                                     5              194            1222"
      ]
     },
     "execution_count": 215,
     "metadata": {},
     "output_type": "execute_result"
    }
   ],
   "source": [
    "df.Previous_qualification.replace([35, 34], 'Others', inplace=True)\n",
    "df.Previous_qualification.replace([2, 3, 4, 5, 6, 18, 22, 39, 40, 41, 42, 43, 44], 'Graduation_plus', inplace=True)\n",
    "df.Previous_qualification.replace([1, 9, 10, 12, 19, 27], 'High_School_Eq', inplace=True)\n",
    "df.Previous_qualification.replace([11, 14, 15, 26, 29, 30, 36, 37, 38], 'Basic_Education', inplace=True)\n",
    "\n",
    "pd.crosstab(df.Target, df.Previous_qualification)"
   ]
  },
  {
   "attachments": {},
   "cell_type": "markdown",
   "metadata": {},
   "source": [
    "## Mother's Qualification\n",
    "\n",
    "- 1 - Secondary Education - 12th Year of Schooling or Eq. \n",
    "- 2 - Higher Education - Bachelor's Degree \n",
    "- 3 - Higher Education - Degree \n",
    "- 4 - Higher Education - Master's \n",
    "- 5 - Higher Education - Doctorate \n",
    "- 6 - Frequency of Higher Education \n",
    "- 9 - 12th Year of Schooling - Not Completed \n",
    "- 10 - 11th Year of Schooling - Not Completed \n",
    "- 11 - 7th Year (Old) \n",
    "- 12 - Other - 11th Year of Schooling \n",
    "- 14 - 10th Year of Schooling \n",
    "- 18 - General commerce course \n",
    "- 19 - Basic Education 3rd Cycle (9th/10th/11th Year) or Equiv. \n",
    "- 22 - Technical-professional course \n",
    "- 26 - 7th year of schooling \n",
    "- 27 - 2nd cycle of the general high school course \n",
    "- 29 - 9th Year of Schooling - Not Completed \n",
    "- 30 - 8th year of schooling \n",
    "- 34 - Unknown \n",
    "- 35 - Can't read or write \n",
    "- 36 - Can read without having a 4th year of schooling \n",
    "- 37 - Basic education 1st cycle (4th/5th year) or equiv. \n",
    "- 38 - Basic Education 2nd Cycle (6th/7th/8th Year) or Equiv. \n",
    "- 39 - Technological specialization course \n",
    "- 40 - Higher education - degree (1st cycle) \n",
    "- 41 - Specialized higher studies course \n",
    "- 42 - Professional higher technical course \n",
    "- 43 - Higher Education - Master (2nd cycle) \n",
    "- 44 - Higher Education - Doctorate (3rd cycle)"
   ]
  },
  {
   "cell_type": "code",
   "execution_count": 216,
   "metadata": {},
   "outputs": [
    {
     "data": {
      "text/html": [
       "<div>\n",
       "<style scoped>\n",
       "    .dataframe tbody tr th:only-of-type {\n",
       "        vertical-align: middle;\n",
       "    }\n",
       "\n",
       "    .dataframe tbody tr th {\n",
       "        vertical-align: top;\n",
       "    }\n",
       "\n",
       "    .dataframe thead th {\n",
       "        text-align: right;\n",
       "    }\n",
       "</style>\n",
       "<table border=\"1\" class=\"dataframe\">\n",
       "  <thead>\n",
       "    <tr style=\"text-align: right;\">\n",
       "      <th>Mother_qualification</th>\n",
       "      <th>Basic_Education</th>\n",
       "      <th>Graduation_plus</th>\n",
       "      <th>High_School_Eq</th>\n",
       "      <th>Others</th>\n",
       "    </tr>\n",
       "    <tr>\n",
       "      <th>Target</th>\n",
       "      <th></th>\n",
       "      <th></th>\n",
       "      <th></th>\n",
       "      <th></th>\n",
       "    </tr>\n",
       "  </thead>\n",
       "  <tbody>\n",
       "    <tr>\n",
       "      <th>0</th>\n",
       "      <td>1056</td>\n",
       "      <td>437</td>\n",
       "      <td>1475</td>\n",
       "      <td>35</td>\n",
       "    </tr>\n",
       "    <tr>\n",
       "      <th>1</th>\n",
       "      <td>530</td>\n",
       "      <td>192</td>\n",
       "      <td>601</td>\n",
       "      <td>98</td>\n",
       "    </tr>\n",
       "  </tbody>\n",
       "</table>\n",
       "</div>"
      ],
      "text/plain": [
       "Mother_qualification  Basic_Education  Graduation_plus  High_School_Eq  Others\n",
       "Target                                                                        \n",
       "0                                1056              437            1475      35\n",
       "1                                 530              192             601      98"
      ]
     },
     "execution_count": 216,
     "metadata": {},
     "output_type": "execute_result"
    }
   ],
   "source": [
    "df.Mother_qualification.replace([35, 34], 'Others', inplace=True)\n",
    "df.Mother_qualification.replace([2, 3, 4, 5, 6, 18, 22, 39, 40, 41, 42, 43, 44], 'Graduation_plus', inplace=True)\n",
    "df.Mother_qualification.replace([1, 9, 10, 12, 19, 27], 'High_School_Eq', inplace=True)\n",
    "df.Mother_qualification.replace([11, 14, 26, 29, 30, 36, 37, 38], 'Basic_Education', inplace=True)\n",
    "\n",
    "pd.crosstab(df.Target, df.Mother_qualification)"
   ]
  },
  {
   "attachments": {},
   "cell_type": "markdown",
   "metadata": {},
   "source": [
    "## Father's Occupation"
   ]
  },
  {
   "cell_type": "code",
   "execution_count": 217,
   "metadata": {},
   "outputs": [
    {
     "data": {
      "text/html": [
       "<div>\n",
       "<style scoped>\n",
       "    .dataframe tbody tr th:only-of-type {\n",
       "        vertical-align: middle;\n",
       "    }\n",
       "\n",
       "    .dataframe tbody tr th {\n",
       "        vertical-align: top;\n",
       "    }\n",
       "\n",
       "    .dataframe thead th {\n",
       "        text-align: right;\n",
       "    }\n",
       "</style>\n",
       "<table border=\"1\" class=\"dataframe\">\n",
       "  <thead>\n",
       "    <tr style=\"text-align: right;\">\n",
       "      <th>Father_occupation</th>\n",
       "      <th>Highly_Skilled</th>\n",
       "      <th>Others</th>\n",
       "      <th>Skilled</th>\n",
       "      <th>Unskilled</th>\n",
       "    </tr>\n",
       "    <tr>\n",
       "      <th>Target</th>\n",
       "      <th></th>\n",
       "      <th></th>\n",
       "      <th></th>\n",
       "      <th></th>\n",
       "    </tr>\n",
       "  </thead>\n",
       "  <tbody>\n",
       "    <tr>\n",
       "      <th>0</th>\n",
       "      <td>409</td>\n",
       "      <td>71</td>\n",
       "      <td>1801</td>\n",
       "      <td>722</td>\n",
       "    </tr>\n",
       "    <tr>\n",
       "      <th>1</th>\n",
       "      <td>205</td>\n",
       "      <td>141</td>\n",
       "      <td>748</td>\n",
       "      <td>327</td>\n",
       "    </tr>\n",
       "  </tbody>\n",
       "</table>\n",
       "</div>"
      ],
      "text/plain": [
       "Father_occupation  Highly_Skilled  Others  Skilled  Unskilled\n",
       "Target                                                       \n",
       "0                             409      71     1801        722\n",
       "1                             205     141      748        327"
      ]
     },
     "execution_count": 217,
     "metadata": {},
     "output_type": "execute_result"
    }
   ],
   "source": [
    "df.Father_occupation.replace([0, 90, 99], \"Others\", inplace=True)\n",
    "df.Father_occupation.replace([9, 151, 152, 153, 163, 175, 192, 193, 194, 195], \"Unskilled\", inplace=True)\n",
    "df.Father_occupation.replace([3, 4, 5, 6, 7, 8, 131, 132, 134, 135, 141, 143, 144, 154, 161, 171, 172, 174, 181, 182, 183], \"Skilled\", inplace=True)\n",
    "df.Father_occupation.replace([1, 2, 10, 101, 102, 103, 112, 114, 121, 122, 123, 124], \"Highly_Skilled\", inplace=True)\n",
    "\n",
    "pd.crosstab(df.Target, df.Father_occupation)"
   ]
  },
  {
   "cell_type": "code",
   "execution_count": 218,
   "metadata": {},
   "outputs": [
    {
     "data": {
      "text/plain": [
       "['Father_occupation',\n",
       " 'Mother_qualification',\n",
       " 'Previous_qualification',\n",
       " 'Course',\n",
       " 'Application_mode']"
      ]
     },
     "execution_count": 218,
     "metadata": {},
     "output_type": "execute_result"
    }
   ],
   "source": [
    "categorical_columns = ['Father_occupation', 'Mother_qualification', 'Previous_qualification', 'Course', 'Application_mode']\n",
    "categorical_columns"
   ]
  },
  {
   "cell_type": "code",
   "execution_count": 219,
   "metadata": {},
   "outputs": [],
   "source": [
    "dummied_df = pd.get_dummies(df, columns=categorical_columns)"
   ]
  },
  {
   "cell_type": "code",
   "execution_count": 220,
   "metadata": {},
   "outputs": [
    {
     "data": {
      "text/plain": [
       "(4424, 54)"
      ]
     },
     "execution_count": 220,
     "metadata": {},
     "output_type": "execute_result"
    }
   ],
   "source": [
    "dummied_df.shape"
   ]
  },
  {
   "attachments": {},
   "cell_type": "markdown",
   "metadata": {},
   "source": [
    "# Calculate VIF for continouous features"
   ]
  },
  {
   "cell_type": "code",
   "execution_count": 221,
   "metadata": {},
   "outputs": [],
   "source": [
    "def calculate_vif_(X, thresh=5.0):\n",
    "    variables = [X.columns[i] for i in range(X.shape[1])]\n",
    "    dropped=True\n",
    "    while dropped:\n",
    "        dropped=False\n",
    "        \n",
    "        vif = Parallel(n_jobs=-1,verbose=5)(delayed(variance_inflation_factor)(X[variables].values, ix) \n",
    "                                            for ix in range(len(variables)))\n",
    " \n",
    "        maxloc = vif.index(max(vif))\n",
    "        if max(vif) > thresh:\n",
    "            print ('VIF is ' + str(max(vif)) + ' ' + 'dropping ' + X[variables].columns[maxloc])\n",
    "            \n",
    "            variables.pop(maxloc)\n",
    "            dropped=True\n",
    " \n",
    "    return variables"
   ]
  },
  {
   "cell_type": "code",
   "execution_count": 222,
   "metadata": {},
   "outputs": [
    {
     "name": "stderr",
     "output_type": "stream",
     "text": [
      "[Parallel(n_jobs=-1)]: Using backend LokyBackend with 8 concurrent workers.\n",
      "[Parallel(n_jobs=-1)]: Done   5 out of  16 | elapsed:    3.0s remaining:    6.6s\n",
      "[Parallel(n_jobs=-1)]: Done   9 out of  16 | elapsed:    3.0s remaining:    2.3s\n",
      "[Parallel(n_jobs=-1)]: Done  13 out of  16 | elapsed:    3.0s remaining:    0.6s\n"
     ]
    },
    {
     "ename": "KeyboardInterrupt",
     "evalue": "",
     "output_type": "error",
     "traceback": [
      "\u001b[1;31m---------------------------------------------------------------------------\u001b[0m",
      "\u001b[1;31mKeyboardInterrupt\u001b[0m                         Traceback (most recent call last)",
      "\u001b[1;32md:\\JioInstitute\\Quarter-3\\ResponsibleAI\\Project\\RAI_Student_Dropout_Prediction\\main.ipynb Cell 31\u001b[0m in \u001b[0;36m<cell line: 12>\u001b[1;34m()\u001b[0m\n\u001b[0;32m      <a href='vscode-notebook-cell:/d%3A/JioInstitute/Quarter-3/ResponsibleAI/Project/RAI_Student_Dropout_Prediction/main.ipynb#X42sZmlsZQ%3D%3D?line=0'>1</a>\u001b[0m df_numerical \u001b[39m=\u001b[39m df[[\u001b[39m'\u001b[39m\u001b[39menrollment_age\u001b[39m\u001b[39m'\u001b[39m, \u001b[39m'\u001b[39m\u001b[39mCurricular_units_1st_sem_credited\u001b[39m\u001b[39m'\u001b[39m, \u001b[39m'\u001b[39m\u001b[39mCurricular_units_1st_sem_enrolled\u001b[39m\u001b[39m'\u001b[39m,\n\u001b[0;32m      <a href='vscode-notebook-cell:/d%3A/JioInstitute/Quarter-3/ResponsibleAI/Project/RAI_Student_Dropout_Prediction/main.ipynb#X42sZmlsZQ%3D%3D?line=1'>2</a>\u001b[0m        \u001b[39m'\u001b[39m\u001b[39mCurricular_units_1st_sem_evaluations\u001b[39m\u001b[39m'\u001b[39m,\n\u001b[0;32m      <a href='vscode-notebook-cell:/d%3A/JioInstitute/Quarter-3/ResponsibleAI/Project/RAI_Student_Dropout_Prediction/main.ipynb#X42sZmlsZQ%3D%3D?line=2'>3</a>\u001b[0m        \u001b[39m'\u001b[39m\u001b[39mCurricular_units_1st_sem_approved\u001b[39m\u001b[39m'\u001b[39m, \u001b[39m'\u001b[39m\u001b[39mCurricular_units_1st_sem_grade\u001b[39m\u001b[39m'\u001b[39m,\n\u001b[1;32m   (...)\u001b[0m\n\u001b[0;32m      <a href='vscode-notebook-cell:/d%3A/JioInstitute/Quarter-3/ResponsibleAI/Project/RAI_Student_Dropout_Prediction/main.ipynb#X42sZmlsZQ%3D%3D?line=8'>9</a>\u001b[0m        \u001b[39m'\u001b[39m\u001b[39mCurricular_units_2nd_sem_without_evaluations\u001b[39m\u001b[39m'\u001b[39m, \u001b[39m'\u001b[39m\u001b[39mUnemployment_rate\u001b[39m\u001b[39m'\u001b[39m,\n\u001b[0;32m     <a href='vscode-notebook-cell:/d%3A/JioInstitute/Quarter-3/ResponsibleAI/Project/RAI_Student_Dropout_Prediction/main.ipynb#X42sZmlsZQ%3D%3D?line=9'>10</a>\u001b[0m        \u001b[39m'\u001b[39m\u001b[39mInflation_rate\u001b[39m\u001b[39m'\u001b[39m, \u001b[39m'\u001b[39m\u001b[39mGDP\u001b[39m\u001b[39m'\u001b[39m]]\n\u001b[1;32m---> <a href='vscode-notebook-cell:/d%3A/JioInstitute/Quarter-3/ResponsibleAI/Project/RAI_Student_Dropout_Prediction/main.ipynb#X42sZmlsZQ%3D%3D?line=11'>12</a>\u001b[0m rem_cols \u001b[39m=\u001b[39m calculate_vif_(df_numerical)\n\u001b[0;32m     <a href='vscode-notebook-cell:/d%3A/JioInstitute/Quarter-3/ResponsibleAI/Project/RAI_Student_Dropout_Prediction/main.ipynb#X42sZmlsZQ%3D%3D?line=13'>14</a>\u001b[0m col_to_remove \u001b[39m=\u001b[39m df_numerical\u001b[39m.\u001b[39mcolumns[\u001b[39m~\u001b[39mdf_numerical\u001b[39m.\u001b[39mcolumns\u001b[39m.\u001b[39misin(rem_cols)]\n\u001b[0;32m     <a href='vscode-notebook-cell:/d%3A/JioInstitute/Quarter-3/ResponsibleAI/Project/RAI_Student_Dropout_Prediction/main.ipynb#X42sZmlsZQ%3D%3D?line=14'>15</a>\u001b[0m updated_df \u001b[39m=\u001b[39m dummied_df\u001b[39m.\u001b[39mdrop(columns\u001b[39m=\u001b[39mcol_to_remove)\n",
      "\u001b[1;32md:\\JioInstitute\\Quarter-3\\ResponsibleAI\\Project\\RAI_Student_Dropout_Prediction\\main.ipynb Cell 31\u001b[0m in \u001b[0;36mcalculate_vif_\u001b[1;34m(X, thresh)\u001b[0m\n\u001b[0;32m      <a href='vscode-notebook-cell:/d%3A/JioInstitute/Quarter-3/ResponsibleAI/Project/RAI_Student_Dropout_Prediction/main.ipynb#X42sZmlsZQ%3D%3D?line=3'>4</a>\u001b[0m \u001b[39mwhile\u001b[39;00m dropped:\n\u001b[0;32m      <a href='vscode-notebook-cell:/d%3A/JioInstitute/Quarter-3/ResponsibleAI/Project/RAI_Student_Dropout_Prediction/main.ipynb#X42sZmlsZQ%3D%3D?line=4'>5</a>\u001b[0m     dropped\u001b[39m=\u001b[39m\u001b[39mFalse\u001b[39;00m\n\u001b[1;32m----> <a href='vscode-notebook-cell:/d%3A/JioInstitute/Quarter-3/ResponsibleAI/Project/RAI_Student_Dropout_Prediction/main.ipynb#X42sZmlsZQ%3D%3D?line=6'>7</a>\u001b[0m     vif \u001b[39m=\u001b[39m Parallel(n_jobs\u001b[39m=\u001b[39;49m\u001b[39m-\u001b[39;49m\u001b[39m1\u001b[39;49m,verbose\u001b[39m=\u001b[39;49m\u001b[39m5\u001b[39;49m)(delayed(variance_inflation_factor)(X[variables]\u001b[39m.\u001b[39;49mvalues, ix) \n\u001b[0;32m      <a href='vscode-notebook-cell:/d%3A/JioInstitute/Quarter-3/ResponsibleAI/Project/RAI_Student_Dropout_Prediction/main.ipynb#X42sZmlsZQ%3D%3D?line=7'>8</a>\u001b[0m                                         \u001b[39mfor\u001b[39;49;00m ix \u001b[39min\u001b[39;49;00m \u001b[39mrange\u001b[39;49m(\u001b[39mlen\u001b[39;49m(variables)))\n\u001b[0;32m     <a href='vscode-notebook-cell:/d%3A/JioInstitute/Quarter-3/ResponsibleAI/Project/RAI_Student_Dropout_Prediction/main.ipynb#X42sZmlsZQ%3D%3D?line=9'>10</a>\u001b[0m     maxloc \u001b[39m=\u001b[39m vif\u001b[39m.\u001b[39mindex(\u001b[39mmax\u001b[39m(vif))\n\u001b[0;32m     <a href='vscode-notebook-cell:/d%3A/JioInstitute/Quarter-3/ResponsibleAI/Project/RAI_Student_Dropout_Prediction/main.ipynb#X42sZmlsZQ%3D%3D?line=10'>11</a>\u001b[0m     \u001b[39mif\u001b[39;00m \u001b[39mmax\u001b[39m(vif) \u001b[39m>\u001b[39m thresh:\n",
      "File \u001b[1;32mc:\\ProgramData\\Anaconda3\\lib\\site-packages\\joblib\\parallel.py:1098\u001b[0m, in \u001b[0;36mParallel.__call__\u001b[1;34m(self, iterable)\u001b[0m\n\u001b[0;32m   1095\u001b[0m     \u001b[39mself\u001b[39m\u001b[39m.\u001b[39m_iterating \u001b[39m=\u001b[39m \u001b[39mFalse\u001b[39;00m\n\u001b[0;32m   1097\u001b[0m \u001b[39mwith\u001b[39;00m \u001b[39mself\u001b[39m\u001b[39m.\u001b[39m_backend\u001b[39m.\u001b[39mretrieval_context():\n\u001b[1;32m-> 1098\u001b[0m     \u001b[39mself\u001b[39;49m\u001b[39m.\u001b[39;49mretrieve()\n\u001b[0;32m   1099\u001b[0m \u001b[39m# Make sure that we get a last message telling us we are done\u001b[39;00m\n\u001b[0;32m   1100\u001b[0m elapsed_time \u001b[39m=\u001b[39m time\u001b[39m.\u001b[39mtime() \u001b[39m-\u001b[39m \u001b[39mself\u001b[39m\u001b[39m.\u001b[39m_start_time\n",
      "File \u001b[1;32mc:\\ProgramData\\Anaconda3\\lib\\site-packages\\joblib\\parallel.py:975\u001b[0m, in \u001b[0;36mParallel.retrieve\u001b[1;34m(self)\u001b[0m\n\u001b[0;32m    973\u001b[0m \u001b[39mtry\u001b[39;00m:\n\u001b[0;32m    974\u001b[0m     \u001b[39mif\u001b[39;00m \u001b[39mgetattr\u001b[39m(\u001b[39mself\u001b[39m\u001b[39m.\u001b[39m_backend, \u001b[39m'\u001b[39m\u001b[39msupports_timeout\u001b[39m\u001b[39m'\u001b[39m, \u001b[39mFalse\u001b[39;00m):\n\u001b[1;32m--> 975\u001b[0m         \u001b[39mself\u001b[39m\u001b[39m.\u001b[39m_output\u001b[39m.\u001b[39mextend(job\u001b[39m.\u001b[39;49mget(timeout\u001b[39m=\u001b[39;49m\u001b[39mself\u001b[39;49m\u001b[39m.\u001b[39;49mtimeout))\n\u001b[0;32m    976\u001b[0m     \u001b[39melse\u001b[39;00m:\n\u001b[0;32m    977\u001b[0m         \u001b[39mself\u001b[39m\u001b[39m.\u001b[39m_output\u001b[39m.\u001b[39mextend(job\u001b[39m.\u001b[39mget())\n",
      "File \u001b[1;32mc:\\ProgramData\\Anaconda3\\lib\\site-packages\\joblib\\_parallel_backends.py:567\u001b[0m, in \u001b[0;36mLokyBackend.wrap_future_result\u001b[1;34m(future, timeout)\u001b[0m\n\u001b[0;32m    564\u001b[0m \u001b[39m\"\"\"Wrapper for Future.result to implement the same behaviour as\u001b[39;00m\n\u001b[0;32m    565\u001b[0m \u001b[39mAsyncResults.get from multiprocessing.\"\"\"\u001b[39;00m\n\u001b[0;32m    566\u001b[0m \u001b[39mtry\u001b[39;00m:\n\u001b[1;32m--> 567\u001b[0m     \u001b[39mreturn\u001b[39;00m future\u001b[39m.\u001b[39;49mresult(timeout\u001b[39m=\u001b[39;49mtimeout)\n\u001b[0;32m    568\u001b[0m \u001b[39mexcept\u001b[39;00m CfTimeoutError \u001b[39mas\u001b[39;00m e:\n\u001b[0;32m    569\u001b[0m     \u001b[39mraise\u001b[39;00m \u001b[39mTimeoutError\u001b[39;00m \u001b[39mfrom\u001b[39;00m \u001b[39me\u001b[39;00m\n",
      "File \u001b[1;32mc:\\ProgramData\\Anaconda3\\lib\\concurrent\\futures\\_base.py:441\u001b[0m, in \u001b[0;36mFuture.result\u001b[1;34m(self, timeout)\u001b[0m\n\u001b[0;32m    438\u001b[0m \u001b[39melif\u001b[39;00m \u001b[39mself\u001b[39m\u001b[39m.\u001b[39m_state \u001b[39m==\u001b[39m FINISHED:\n\u001b[0;32m    439\u001b[0m     \u001b[39mreturn\u001b[39;00m \u001b[39mself\u001b[39m\u001b[39m.\u001b[39m__get_result()\n\u001b[1;32m--> 441\u001b[0m \u001b[39mself\u001b[39;49m\u001b[39m.\u001b[39;49m_condition\u001b[39m.\u001b[39;49mwait(timeout)\n\u001b[0;32m    443\u001b[0m \u001b[39mif\u001b[39;00m \u001b[39mself\u001b[39m\u001b[39m.\u001b[39m_state \u001b[39min\u001b[39;00m [CANCELLED, CANCELLED_AND_NOTIFIED]:\n\u001b[0;32m    444\u001b[0m     \u001b[39mraise\u001b[39;00m CancelledError()\n",
      "File \u001b[1;32mc:\\ProgramData\\Anaconda3\\lib\\threading.py:312\u001b[0m, in \u001b[0;36mCondition.wait\u001b[1;34m(self, timeout)\u001b[0m\n\u001b[0;32m    310\u001b[0m \u001b[39mtry\u001b[39;00m:    \u001b[39m# restore state no matter what (e.g., KeyboardInterrupt)\u001b[39;00m\n\u001b[0;32m    311\u001b[0m     \u001b[39mif\u001b[39;00m timeout \u001b[39mis\u001b[39;00m \u001b[39mNone\u001b[39;00m:\n\u001b[1;32m--> 312\u001b[0m         waiter\u001b[39m.\u001b[39;49macquire()\n\u001b[0;32m    313\u001b[0m         gotit \u001b[39m=\u001b[39m \u001b[39mTrue\u001b[39;00m\n\u001b[0;32m    314\u001b[0m     \u001b[39melse\u001b[39;00m:\n",
      "\u001b[1;31mKeyboardInterrupt\u001b[0m: "
     ]
    }
   ],
   "source": [
    "df_numerical = df[['enrollment_age', 'Curricular_units_1st_sem_credited', 'Curricular_units_1st_sem_enrolled',\n",
    "       'Curricular_units_1st_sem_evaluations',\n",
    "       'Curricular_units_1st_sem_approved', 'Curricular_units_1st_sem_grade',\n",
    "       'Curricular_units_1st_sem_without_evaluations',\n",
    "       'Curricular_units_2nd_sem_credited',\n",
    "       'Curricular_units_2nd_sem_enrolled',\n",
    "       'Curricular_units_2nd_sem_evaluations',\n",
    "       'Curricular_units_2nd_sem_approved', 'Curricular_units_2nd_sem_grade',\n",
    "       'Curricular_units_2nd_sem_without_evaluations', 'Unemployment_rate',\n",
    "       'Inflation_rate', 'GDP']]\n",
    "\n",
    "rem_cols = calculate_vif_(df_numerical)\n",
    "\n",
    "col_to_remove = df_numerical.columns[~df_numerical.columns.isin(rem_cols)]\n",
    "updated_df = dummied_df.drop(columns=col_to_remove)"
   ]
  },
  {
   "cell_type": "code",
   "execution_count": null,
   "metadata": {},
   "outputs": [
    {
     "name": "stdout",
     "output_type": "stream",
     "text": [
      "['enrollment_age']\n"
     ]
    }
   ],
   "source": [
    "dropped_df = updated_df.drop('Marital_status', axis=1)\n",
    "proxy_features = []\n",
    "for i in dropped_df.columns:\n",
    "    mi = mutual_info_score(updated_df.Marital_status, dropped_df[i])\n",
    "    if mi > 0.1:\n",
    "        proxy_features.append(i)\n",
    "print(proxy_features)"
   ]
  },
  {
   "attachments": {},
   "cell_type": "markdown",
   "metadata": {},
   "source": [
    "## Extract features from dataset infortant to the Target"
   ]
  },
  {
   "cell_type": "code",
   "execution_count": null,
   "metadata": {},
   "outputs": [
    {
     "data": {
      "text/plain": [
       "XGBClassifier(base_score=None, booster=None, callbacks=None,\n",
       "              colsample_bylevel=None, colsample_bynode=None,\n",
       "              colsample_bytree=None, early_stopping_rounds=None,\n",
       "              enable_categorical=False, eval_metric=None, feature_types=None,\n",
       "              gamma=None, gpu_id=None, grow_policy=None, importance_type=None,\n",
       "              interaction_constraints=None, learning_rate=None, max_bin=None,\n",
       "              max_cat_threshold=None, max_cat_to_onehot=None,\n",
       "              max_delta_step=None, max_depth=None, max_leaves=None,\n",
       "              min_child_weight=None, missing=nan, monotone_constraints=None,\n",
       "              n_estimators=100, n_jobs=None, num_parallel_tree=None,\n",
       "              predictor=None, random_state=None, ...)"
      ]
     },
     "execution_count": 89,
     "metadata": {},
     "output_type": "execute_result"
    }
   ],
   "source": [
    "X = updated_df.drop('Target', axis=1)\n",
    "Y = updated_df.Target\n",
    "\n",
    "\n",
    "model = XGBClassifier()\n",
    "model.fit(X, Y)"
   ]
  },
  {
   "cell_type": "code",
   "execution_count": null,
   "metadata": {},
   "outputs": [],
   "source": [
    "imp_df = pd.DataFrame({'Colname': X.columns, 'importance': model.feature_importances_})\n",
    "imp_df.sort_values(by='importance', ascending=False, inplace=True)"
   ]
  },
  {
   "cell_type": "code",
   "execution_count": null,
   "metadata": {},
   "outputs": [
    {
     "data": {
      "text/plain": [
       "(44, 2)"
      ]
     },
     "execution_count": 91,
     "metadata": {},
     "output_type": "execute_result"
    }
   ],
   "source": [
    "imp_df.shape"
   ]
  },
  {
   "cell_type": "code",
   "execution_count": null,
   "metadata": {},
   "outputs": [],
   "source": [
    "cols_to_remove = imp_df[imp_df.importance == 0.0].Colname.values"
   ]
  },
  {
   "cell_type": "code",
   "execution_count": null,
   "metadata": {},
   "outputs": [
    {
     "data": {
      "text/plain": [
       "array(['Previous_qualification_High_School_Eq',\n",
       "       'Previous_qualification_Basic_Education',\n",
       "       'Application_mode_Others'], dtype=object)"
      ]
     },
     "execution_count": 93,
     "metadata": {},
     "output_type": "execute_result"
    }
   ],
   "source": [
    "cols_to_remove"
   ]
  },
  {
   "attachments": {},
   "cell_type": "markdown",
   "metadata": {},
   "source": [
    "## Create final CSV for easy usage"
   ]
  },
  {
   "cell_type": "code",
   "execution_count": null,
   "metadata": {},
   "outputs": [],
   "source": [
    "final_df = updated_df[imp_df.Colname[~imp_df.Colname.isin(cols_to_remove)].values]\n",
    "final_df['Target'] = updated_df.Target\n",
    "\n",
    "final_df.to_csv(\"dataset_featured_v2.csv\", index=False)"
   ]
  },
  {
   "cell_type": "code",
   "execution_count": null,
   "metadata": {},
   "outputs": [
    {
     "data": {
      "text/plain": [
       "(4424, 42)"
      ]
     },
     "execution_count": 95,
     "metadata": {},
     "output_type": "execute_result"
    }
   ],
   "source": [
    "final_df.shape"
   ]
  },
  {
   "attachments": {},
   "cell_type": "markdown",
   "metadata": {},
   "source": [
    "# Apply noise on enrollment_age"
   ]
  },
  {
   "cell_type": "code",
   "execution_count": null,
   "metadata": {},
   "outputs": [],
   "source": [
    "df = final_df.copy()\n",
    "df_raw = final_df.copy()"
   ]
  },
  {
   "cell_type": "code",
   "execution_count": null,
   "metadata": {},
   "outputs": [
    {
     "data": {
      "text/plain": [
       "0.015819209039548022"
      ]
     },
     "execution_count": 97,
     "metadata": {},
     "output_type": "execute_result"
    }
   ],
   "source": [
    "sensitivity = df.enrollment_age.max()/(df.shape[0]+1)\n",
    "sensitivity"
   ]
  },
  {
   "cell_type": "code",
   "execution_count": null,
   "metadata": {},
   "outputs": [],
   "source": [
    "original = df.enrollment_age.mean()\n",
    "\n",
    "V=[]\n",
    "ep=[]\n",
    "count=[]\n",
    "\n",
    "for j in range (1,6):\n",
    "    epsilon = j/10\n",
    "    for k in range(0,df.enrollment_age.shape[0]):\n",
    "        value = df.enrollment_age.loc[k] + np.random.laplace(loc=0, scale=sensitivity/epsilon)\n",
    "        V.append(value)\n",
    "        ep.append(epsilon)\n",
    "        count.append(k)"
   ]
  },
  {
   "cell_type": "code",
   "execution_count": null,
   "metadata": {},
   "outputs": [
    {
     "name": "stdout",
     "output_type": "stream",
     "text": [
      "23.265144665461122\n",
      "0.1 Epsilon_mean: 23.27230490936672\t Mean_Difference:0.007160243905598662\n",
      "0.2 Epsilon_mean: 23.260999825851034\t Mean_Difference:-0.004144839610088269\n",
      "0.3 Epsilon_mean: 23.265137867271424\t Mean_Difference:-6.79818969828716e-06\n",
      "0.4 Epsilon_mean: 23.262900007296306\t Mean_Difference:-0.0022446581648161157\n",
      "0.5 Epsilon_mean: 23.265973688595256\t Mean_Difference:0.0008290231341341325\n"
     ]
    }
   ],
   "source": [
    "fra = pd.DataFrame({'Value':V, 'ep':ep, 'count':count})\n",
    "print(original)\n",
    "\n",
    "epsilon_difference = []\n",
    "\n",
    "for eps, grouped_data in fra.groupby('ep'):\n",
    "    grouped_mean = grouped_data['Value'].mean()\n",
    "    epsilon_difference.append((eps, grouped_mean - original))\n",
    "    print(eps, f\"Epsilon_mean: {grouped_mean}\\t Mean_Difference:{grouped_mean - original}\")"
   ]
  },
  {
   "cell_type": "code",
   "execution_count": null,
   "metadata": {},
   "outputs": [
    {
     "name": "stdout",
     "output_type": "stream",
     "text": [
      "0.3\n"
     ]
    }
   ],
   "source": [
    "nearest_epsilon = min(epsilon_difference, key=lambda x: abs(x[1]-0))\n",
    "epsilon_to_consider = nearest_epsilon[0]\n",
    "print(epsilon_to_consider)"
   ]
  },
  {
   "cell_type": "code",
   "execution_count": null,
   "metadata": {},
   "outputs": [],
   "source": [
    "for k in range(0,df.enrollment_age.shape[0]):\n",
    "    df.enrollment_age.loc[k] = df.enrollment_age.loc[k] + np.random.laplace(loc=0, scale=sensitivity/epsilon_to_consider)"
   ]
  },
  {
   "attachments": {},
   "cell_type": "markdown",
   "metadata": {},
   "source": [
    "# Models without Re-Weighting"
   ]
  },
  {
   "cell_type": "code",
   "execution_count": null,
   "metadata": {},
   "outputs": [],
   "source": [
    "columns_to_drop = ['Marital_status', 'Gender', 'Nacionality', 'Target'] # Removed PII features and Target for modelling"
   ]
  },
  {
   "cell_type": "code",
   "execution_count": null,
   "metadata": {},
   "outputs": [],
   "source": [
    "X_dp = df.drop(columns=columns_to_drop, axis=1)\n",
    "Y_dp = df.Target\n",
    "X_raw = df_raw.drop(columns=columns_to_drop, axis=1)\n",
    "Y_raw = df_raw.Target\n",
    "\n",
    "X_train_dp, X_test_dp, y_train_dp, y_test_dp = train_test_split(X_dp, Y_dp, test_size=0.30, random_state=42)\n",
    "X_train_raw, X_test_raw, y_train_raw, y_test_raw = train_test_split(X_raw, Y_raw, test_size=0.30, random_state=42)\n",
    "\n",
    "X_train_dp_scaled = scaler.fit_transform(X_train_dp)\n",
    "X_test_dp_scaled = scaler.fit_transform(X_test_dp)\n",
    "\n",
    "X_train_raw_scaled = scaler.fit_transform(X_train_raw)\n",
    "X_test_raw_scaled = scaler.fit_transform(X_test_raw)"
   ]
  },
  {
   "cell_type": "code",
   "execution_count": null,
   "metadata": {},
   "outputs": [],
   "source": [
    "models_to_run = {\n",
    "    'Raw_Data': {\n",
    "        'DiffPrivLib': {\n",
    "            'RandomForest': {\n",
    "                'X_train': X_train_raw,\n",
    "                'X_test': X_test_raw,\n",
    "                'Y_train': y_train_raw,\n",
    "                'Y_test': y_test_raw,\n",
    "                'PickleFileName': \"raw_diff_rf.pkl\",\n",
    "                'MinMax': (X_train_raw.min().min(), X_train_raw.max().max())\n",
    "            },\n",
    "            'LogisticRegression': {\n",
    "                'X_train': X_train_raw_scaled,\n",
    "                'X_test': X_test_raw_scaled,\n",
    "                'Y_train': y_train_raw,\n",
    "                'Y_test': y_test_raw,\n",
    "                'PickleFileName': \"raw_diff_lr.pkl\",\n",
    "                'MinMax': (X_train_raw_scaled.min().min(), X_train_raw_scaled.max().max())\n",
    "            } \n",
    "        },\n",
    "        'SKLearn': {\n",
    "            'RandomForest': {\n",
    "                'X_train': X_train_raw,\n",
    "                'X_test': X_test_raw,\n",
    "                'Y_train': y_train_raw,\n",
    "                'Y_test': y_test_raw,\n",
    "                'PickleFileName': \"raw_sklearn_rf.pkl\",\n",
    "                'MinMax': (X_train_raw.min().min(), X_train_raw.max().max())\n",
    "            },\n",
    "            'LogisticRegression': {\n",
    "                'X_train': X_train_raw_scaled,\n",
    "                'X_test': X_test_raw_scaled,\n",
    "                'Y_train': y_train_raw,\n",
    "                'Y_test': y_test_raw,\n",
    "                'PickleFileName': \"raw_sklearn_lr.pkl\",\n",
    "                'MinMax': (X_train_raw_scaled.min().min(), X_train_raw_scaled.max().max())\n",
    "            } \n",
    "        } \n",
    "    },\n",
    "    'DP_Data': {\n",
    "        'DiffPrivLib': {\n",
    "            'RandomForest': {\n",
    "                'X_train': X_train_dp,\n",
    "                'X_test': X_test_dp,\n",
    "                'Y_train': y_train_dp,\n",
    "                'Y_test': y_test_dp,\n",
    "                'PickleFileName': \"dp_diff_rf.pkl\",\n",
    "                'MinMax': (X_train_dp.min().min(), X_train_dp.max().max())\n",
    "            },\n",
    "            'LogisticRegression': {\n",
    "                'X_train': X_train_dp_scaled,\n",
    "                'X_test': X_test_dp_scaled,\n",
    "                'Y_train': y_train_dp,\n",
    "                'Y_test': y_test_dp,\n",
    "                'PickleFileName': \"dp_diff_lr.pkl\",\n",
    "                'MinMax': (X_train_dp_scaled.min().min(), X_train_dp_scaled.max().max())\n",
    "            } \n",
    "        },\n",
    "        'SKLearn': {\n",
    "            'RandomForest': {\n",
    "                'X_train': X_train_dp,\n",
    "                'X_test': X_test_dp,\n",
    "                'Y_train': y_train_dp,\n",
    "                'Y_test': y_test_dp,\n",
    "                'PickleFileName': \"dp_sklearn_rf.pkl\",\n",
    "                'MinMax': (X_train_dp.min().min(), X_train_dp.max().max())\n",
    "            },\n",
    "            'LogisticRegression': {\n",
    "                'X_train': X_train_dp_scaled,\n",
    "                'X_test': X_test_dp_scaled,\n",
    "                'Y_train': y_train_dp,\n",
    "                'Y_test': y_test_dp,\n",
    "                'PickleFileName': \"dp_sklearn_lr.pkl\",\n",
    "                'MinMax': (X_train_dp_scaled.min().min(), X_train_dp_scaled.max().max())\n",
    "            } \n",
    "        } \n",
    "    }\n",
    "}"
   ]
  },
  {
   "cell_type": "code",
   "execution_count": null,
   "metadata": {},
   "outputs": [],
   "source": [
    "forest_depth = 10\n",
    "\n",
    "def get_predictions(model, inputs):\n",
    "    model.fit(inputs['X_train'], inputs['Y_train'])\n",
    "    y_pred = model.predict(inputs['X_test'])\n",
    "    return y_pred\n",
    "\n",
    "def get_FNR(y_test, y_pred):\n",
    "    tpr = recall_score(y_test, y_pred)\n",
    "    tnr = recall_score(y_test, y_pred, pos_label=0)\n",
    "\n",
    "    fpr = 1 - tnr\n",
    "    fnr = 1 - tpr\n",
    "\n",
    "    return fnr\n",
    "\n",
    "def get_metrics(y_test, y_pred):\n",
    "    fnr_val = get_FNR(y_test, y_pred)\n",
    "    f1_val = f1_score(y_test, y_pred)\n",
    "    fpr, tpr, threshold = roc_curve(y_test, y_pred)\n",
    "    auc_val = auc(fpr, tpr)\n",
    "    acc_val = accuracy_score(y_test, y_pred)\n",
    "    return fnr_val, f1_val, auc_val, acc_val\n",
    "\n",
    "def get_metrics_for_model(model, inputs):\n",
    "    y_pred = get_predictions(model, inputs)\n",
    "    metrics = get_metrics(inputs['Y_test'], y_pred)\n",
    "    return metrics\n",
    "\n",
    "def get_best_metrics(metrices):\n",
    "    fnrs = []\n",
    "    f1s = []\n",
    "    eps = []\n",
    "\n",
    "    for metric in metrices:\n",
    "        fnrs.append(metric[0][0])\n",
    "        f1s.append(metric[0][1])\n",
    "        eps.append(metric[1])\n",
    "\n",
    "    m_df = pd.DataFrame({'FNR': fnrs, 'F1': f1s, 'Eps': eps})\n",
    "    output = m_df.sort_values(by = ['FNR', 'F1'], ascending = [True, False])\n",
    "    return output.iloc[0]\n",
    "\n",
    "def get_max_l2_norm(inputs):\n",
    "    train = inputs['X_train']\n",
    "    norms = np.sqrt(np.square(X_test_raw).sum(axis=1))\n",
    "    return norms.values.max()\n",
    "\n",
    "def get_dp_model(modelType, epsilon, inputs):\n",
    "    model = None\n",
    "    if modelType == \"RandomForest\":\n",
    "        minmax = inputs['MinMax']\n",
    "        model = dp.RandomForestClassifier(epsilon=epsilon, n_estimators=100, random_state=42, classes=inputs['Y_train'].unique(), n_jobs=-1, max_depth=forest_depth)\n",
    "    else:\n",
    "        data_norm = get_max_l2_norm(inputs)\n",
    "        model = dp.LogisticRegression(epsilon=epsilon, random_state=42, data_norm=data_norm, n_jobs=-1)\n",
    "    return model\n",
    "\n",
    "def get_sklearn_model(modelType):\n",
    "    model = None\n",
    "    if modelType == \"RandomForest\":\n",
    "        model = RandomForestClassifier(n_estimators=100, random_state=42, n_jobs=-1, max_depth=forest_depth)\n",
    "    else:\n",
    "        model = LogisticRegression(random_state=42, n_jobs=-1)\n",
    "    return model\n",
    "\n",
    "def get_best_epsilon(modelType, inputs):\n",
    "    epsilons_to_consider = [round(x, 1) for x in list(np.arange(0.1, 1.1, 0.1))]\n",
    "    metrices = []\n",
    "\n",
    "    for epsilon in epsilons_to_consider:\n",
    "        starttime = datetime.now()\n",
    "        model = get_dp_model(modelType, epsilon, inputs)\n",
    "        metrics = get_metrics_for_model(model, inputs)\n",
    "        endtime = datetime.now()\n",
    "        diff = endtime - starttime\n",
    "        print(f\"Model: {modelType}, Epsilon: {epsilon}, Time Taken: {diff}\")\n",
    "        metrices.append((metrics, epsilon))\n",
    "    \n",
    "    best_metrics = get_best_metrics(metrices)\n",
    "    return best_metrics['Eps']\n",
    "\n",
    "def get_model(package_name, model_name, inputs):\n",
    "    if package_name == \"DiffPrivLib\":\n",
    "        epsilon = get_best_epsilon(model_name, inputs)\n",
    "        model = get_dp_model(model_name, epsilon, inputs)\n",
    "        return model\n",
    "\n",
    "    return get_sklearn_model(model_name)\n",
    "\n",
    "def get_model_with_metrics(package_name, model_name, inputs):\n",
    "    model = get_model(package_name, model_name, inputs)\n",
    "    return get_metrics_for_model(model, inputs), model"
   ]
  },
  {
   "cell_type": "code",
   "execution_count": null,
   "metadata": {},
   "outputs": [
    {
     "name": "stdout",
     "output_type": "stream",
     "text": [
      "Model: RandomForest, Epsilon: 0.1, Time Taken: 0:00:09.546696\n",
      "Model: RandomForest, Epsilon: 0.2, Time Taken: 0:00:10.906312\n",
      "Model: RandomForest, Epsilon: 0.3, Time Taken: 0:00:09.858698\n",
      "Model: RandomForest, Epsilon: 0.4, Time Taken: 0:00:09.832412\n",
      "Model: RandomForest, Epsilon: 0.5, Time Taken: 0:00:10.174199\n",
      "Model: RandomForest, Epsilon: 0.6, Time Taken: 0:00:10.014253\n",
      "Model: RandomForest, Epsilon: 0.7, Time Taken: 0:00:09.710099\n",
      "Model: RandomForest, Epsilon: 0.8, Time Taken: 0:00:09.804877\n",
      "Model: RandomForest, Epsilon: 0.9, Time Taken: 0:00:10.855381\n",
      "Model: RandomForest, Epsilon: 1.0, Time Taken: 0:00:11.825139\n",
      "Model: LogisticRegression, Epsilon: 0.1, Time Taken: 0:00:00.128356\n",
      "Model: LogisticRegression, Epsilon: 0.2, Time Taken: 0:00:00.130630\n",
      "Model: LogisticRegression, Epsilon: 0.3, Time Taken: 0:00:00.143361\n",
      "Model: LogisticRegression, Epsilon: 0.4, Time Taken: 0:00:00.137494\n",
      "Model: LogisticRegression, Epsilon: 0.5, Time Taken: 0:00:00.136751\n",
      "Model: LogisticRegression, Epsilon: 0.6, Time Taken: 0:00:00.135980\n",
      "Model: LogisticRegression, Epsilon: 0.7, Time Taken: 0:00:00.147426\n",
      "Model: LogisticRegression, Epsilon: 0.8, Time Taken: 0:00:00.159759\n",
      "Model: LogisticRegression, Epsilon: 0.9, Time Taken: 0:00:00.016517\n",
      "Model: LogisticRegression, Epsilon: 1.0, Time Taken: 0:00:00.016011\n",
      "Model: RandomForest, Epsilon: 0.1, Time Taken: 0:00:09.674801\n",
      "Model: RandomForest, Epsilon: 0.2, Time Taken: 0:00:09.543415\n",
      "Model: RandomForest, Epsilon: 0.3, Time Taken: 0:00:09.639104\n",
      "Model: RandomForest, Epsilon: 0.4, Time Taken: 0:00:09.476370\n",
      "Model: RandomForest, Epsilon: 0.5, Time Taken: 0:00:09.547148\n",
      "Model: RandomForest, Epsilon: 0.6, Time Taken: 0:00:09.512390\n",
      "Model: RandomForest, Epsilon: 0.7, Time Taken: 0:00:09.726245\n",
      "Model: RandomForest, Epsilon: 0.8, Time Taken: 0:00:09.532051\n",
      "Model: RandomForest, Epsilon: 0.9, Time Taken: 0:00:09.463278\n",
      "Model: RandomForest, Epsilon: 1.0, Time Taken: 0:00:09.770827\n",
      "Model: LogisticRegression, Epsilon: 0.1, Time Taken: 0:00:00.008002\n",
      "Model: LogisticRegression, Epsilon: 0.2, Time Taken: 0:00:00.015924\n",
      "Model: LogisticRegression, Epsilon: 0.3, Time Taken: 0:00:00.013339\n",
      "Model: LogisticRegression, Epsilon: 0.4, Time Taken: 0:00:00.008009\n",
      "Model: LogisticRegression, Epsilon: 0.5, Time Taken: 0:00:00.008100\n",
      "Model: LogisticRegression, Epsilon: 0.6, Time Taken: 0:00:00.016104\n",
      "Model: LogisticRegression, Epsilon: 0.7, Time Taken: 0:00:00.010833\n",
      "Model: LogisticRegression, Epsilon: 0.8, Time Taken: 0:00:00.012695\n",
      "Model: LogisticRegression, Epsilon: 0.9, Time Taken: 0:00:00.008000\n",
      "Model: LogisticRegression, Epsilon: 1.0, Time Taken: 0:00:00.008088\n"
     ]
    }
   ],
   "source": [
    "datatype = []\n",
    "package = []\n",
    "model = []\n",
    "accuracy = []\n",
    "mae = []\n",
    "mse = []\n",
    "rmse = []\n",
    "\n",
    "f1 = []\n",
    "fnr = []\n",
    "aucs = []\n",
    "\n",
    "for data, models in models_to_run.items():\n",
    "    for package_name, model_inputs in models.items():\n",
    "        for model_name, inputs in model_inputs.items():          \n",
    "            datatype.append(data)\n",
    "            package.append(package_name)\n",
    "            model.append(model_name)\n",
    "\n",
    "            metrics, mdl = get_model_with_metrics(package_name, model_name, inputs)\n",
    "            f1.append(metrics[1])\n",
    "            fnr.append(metrics[0])\n",
    "            aucs.append(metrics[2])\n",
    "            accuracy.append(metrics[3])\n",
    "\n",
    "            with open(f\"picklefiles/without_reweight/{inputs['PickleFileName']}\", 'wb') as input_file:\n",
    "                pickle.dump(mdl, input_file)"
   ]
  },
  {
   "cell_type": "code",
   "execution_count": null,
   "metadata": {},
   "outputs": [
    {
     "data": {
      "text/html": [
       "<div>\n",
       "<style scoped>\n",
       "    .dataframe tbody tr th:only-of-type {\n",
       "        vertical-align: middle;\n",
       "    }\n",
       "\n",
       "    .dataframe tbody tr th {\n",
       "        vertical-align: top;\n",
       "    }\n",
       "\n",
       "    .dataframe thead th {\n",
       "        text-align: right;\n",
       "    }\n",
       "</style>\n",
       "<table border=\"1\" class=\"dataframe\">\n",
       "  <thead>\n",
       "    <tr style=\"text-align: right;\">\n",
       "      <th></th>\n",
       "      <th>DataType</th>\n",
       "      <th>Package</th>\n",
       "      <th>ModelName</th>\n",
       "      <th>F1</th>\n",
       "      <th>FNR</th>\n",
       "      <th>AUC</th>\n",
       "      <th>Accuracy</th>\n",
       "    </tr>\n",
       "  </thead>\n",
       "  <tbody>\n",
       "    <tr>\n",
       "      <th>0</th>\n",
       "      <td>Raw_Data</td>\n",
       "      <td>DiffPrivLib</td>\n",
       "      <td>RandomForest</td>\n",
       "      <td>0.250000</td>\n",
       "      <td>0.834467</td>\n",
       "      <td>0.543308</td>\n",
       "      <td>0.670181</td>\n",
       "    </tr>\n",
       "    <tr>\n",
       "      <th>1</th>\n",
       "      <td>Raw_Data</td>\n",
       "      <td>DiffPrivLib</td>\n",
       "      <td>LogisticRegression</td>\n",
       "      <td>0.541446</td>\n",
       "      <td>0.303855</td>\n",
       "      <td>0.630485</td>\n",
       "      <td>0.608434</td>\n",
       "    </tr>\n",
       "    <tr>\n",
       "      <th>2</th>\n",
       "      <td>Raw_Data</td>\n",
       "      <td>SKLearn</td>\n",
       "      <td>RandomForest</td>\n",
       "      <td>0.780669</td>\n",
       "      <td>0.285714</td>\n",
       "      <td>0.828394</td>\n",
       "      <td>0.866717</td>\n",
       "    </tr>\n",
       "    <tr>\n",
       "      <th>3</th>\n",
       "      <td>Raw_Data</td>\n",
       "      <td>SKLearn</td>\n",
       "      <td>LogisticRegression</td>\n",
       "      <td>0.793727</td>\n",
       "      <td>0.253968</td>\n",
       "      <td>0.839758</td>\n",
       "      <td>0.871235</td>\n",
       "    </tr>\n",
       "    <tr>\n",
       "      <th>4</th>\n",
       "      <td>DP_Data</td>\n",
       "      <td>DiffPrivLib</td>\n",
       "      <td>RandomForest</td>\n",
       "      <td>0.250429</td>\n",
       "      <td>0.834467</td>\n",
       "      <td>0.543871</td>\n",
       "      <td>0.670934</td>\n",
       "    </tr>\n",
       "    <tr>\n",
       "      <th>5</th>\n",
       "      <td>DP_Data</td>\n",
       "      <td>DiffPrivLib</td>\n",
       "      <td>LogisticRegression</td>\n",
       "      <td>0.541446</td>\n",
       "      <td>0.303855</td>\n",
       "      <td>0.630485</td>\n",
       "      <td>0.608434</td>\n",
       "    </tr>\n",
       "    <tr>\n",
       "      <th>6</th>\n",
       "      <td>DP_Data</td>\n",
       "      <td>SKLearn</td>\n",
       "      <td>RandomForest</td>\n",
       "      <td>0.786683</td>\n",
       "      <td>0.276644</td>\n",
       "      <td>0.832929</td>\n",
       "      <td>0.869729</td>\n",
       "    </tr>\n",
       "    <tr>\n",
       "      <th>7</th>\n",
       "      <td>DP_Data</td>\n",
       "      <td>SKLearn</td>\n",
       "      <td>LogisticRegression</td>\n",
       "      <td>0.793727</td>\n",
       "      <td>0.253968</td>\n",
       "      <td>0.839758</td>\n",
       "      <td>0.871235</td>\n",
       "    </tr>\n",
       "  </tbody>\n",
       "</table>\n",
       "</div>"
      ],
      "text/plain": [
       "   DataType      Package           ModelName        F1       FNR       AUC  \\\n",
       "0  Raw_Data  DiffPrivLib        RandomForest  0.250000  0.834467  0.543308   \n",
       "1  Raw_Data  DiffPrivLib  LogisticRegression  0.541446  0.303855  0.630485   \n",
       "2  Raw_Data      SKLearn        RandomForest  0.780669  0.285714  0.828394   \n",
       "3  Raw_Data      SKLearn  LogisticRegression  0.793727  0.253968  0.839758   \n",
       "4   DP_Data  DiffPrivLib        RandomForest  0.250429  0.834467  0.543871   \n",
       "5   DP_Data  DiffPrivLib  LogisticRegression  0.541446  0.303855  0.630485   \n",
       "6   DP_Data      SKLearn        RandomForest  0.786683  0.276644  0.832929   \n",
       "7   DP_Data      SKLearn  LogisticRegression  0.793727  0.253968  0.839758   \n",
       "\n",
       "   Accuracy  \n",
       "0  0.670181  \n",
       "1  0.608434  \n",
       "2  0.866717  \n",
       "3  0.871235  \n",
       "4  0.670934  \n",
       "5  0.608434  \n",
       "6  0.869729  \n",
       "7  0.871235  "
      ]
     },
     "execution_count": 107,
     "metadata": {},
     "output_type": "execute_result"
    }
   ],
   "source": [
    "df_model_outputs_1 = pd.DataFrame({'DataType': datatype, 'Package': package, 'ModelName': model, 'F1': f1, 'FNR': fnr, 'AUC': aucs, 'Accuracy': accuracy})\n",
    "df_model_outputs_1"
   ]
  },
  {
   "attachments": {},
   "cell_type": "markdown",
   "metadata": {},
   "source": [
    "# Reweighting Marital_status column"
   ]
  },
  {
   "cell_type": "code",
   "execution_count": null,
   "metadata": {},
   "outputs": [
    {
     "data": {
      "text/plain": [
       "<AxesSubplot:xlabel='Target', ylabel='Marital_status'>"
      ]
     },
     "metadata": {},
     "output_type": "display_data"
    },
    {
     "data": {
      "image/png": "[encoded data removed]",
      "text/plain": [
       "<Figure size 720x360 with 2 Axes>"
      ]
     },
     "metadata": {
      "needs_background": "light"
     },
     "output_type": "display_data"
    }
   ],
   "source": [
    "plt.figure(figsize=(10, 5))\n",
    "display(sns.heatmap(pd.crosstab(df_raw['Marital_status'],df_raw['Target']),annot=True , fmt=\"g\", cmap='Blues'))\n",
    "\n",
    "#0 - Unmarried    1 - Married\n",
    "#0 - Graduate  1 - Dropout"
   ]
  },
  {
   "cell_type": "code",
   "execution_count": null,
   "metadata": {},
   "outputs": [
    {
     "name": "stdout",
     "output_type": "stream",
     "text": [
      "Advataged class count =  4020\n",
      "Disadvantaged class count =  404\n",
      "Favourable class count =  3003\n",
      "Unfavourable class count =  1421\n",
      "Count of advantaged class with favourable outcome 2789\n",
      "Count of advantaged class with unfavourable outcome 1231\n",
      "Count of disadvantaged class with favourable outcome 214\n",
      "Count of disadvantaged class with unfavourable outcome 190\n",
      "Weight of advantaged class with favourable outcome 0.9784029482914343\n",
      "Weight of advantaged class with unfavourable outcome 1.0489310944071404\n",
      "Weight of disadvantaged class with favourable outcome 1.28146811782799\n",
      "Weight of disadvantaged class with unfavourable outcome 0.6829780146568954\n",
      "SPD before reweighting =  0.1640781242303334\n",
      "SPD after reweighting =  1.1102230246251565e-16\n"
     ]
    }
   ],
   "source": [
    "col = 'Marital_status'\n",
    "s_adv = sum(df_raw[col] == 0)\n",
    "s_disadv = sum(df_raw[col] == 1)\n",
    "n = len(df_raw)\n",
    "print(\"Advataged class count = \", s_adv)\n",
    "print(\"Disadvantaged class count = \", s_disadv)\n",
    "\n",
    "y_fav = sum(df_raw['Target'] == 0)\n",
    "y_unfav = sum(df_raw['Target'] == 1)\n",
    "print(\"Favourable class count = \",y_fav)\n",
    "print(\"Unfavourable class count = \", y_unfav)\n",
    "\n",
    "s_adv_y_fav = sum((df_raw[col] == 0) & (df_raw['Target'] == 0))\n",
    "s_adv_y_unfav = sum((df_raw[col] == 0) & (df_raw['Target'] == 1))\n",
    "\n",
    "s_disadv_y_fav = sum((df_raw[col] == 1) & (df_raw['Target'] == 0))\n",
    "s_disadv_y_unfav = sum((df_raw[col] == 1) & (df_raw['Target'] == 1))\n",
    "\n",
    "print('Count of advantaged class with favourable outcome', s_adv_y_fav)\n",
    "print('Count of advantaged class with unfavourable outcome', s_adv_y_unfav)\n",
    "print('Count of disadvantaged class with favourable outcome', s_disadv_y_fav)\n",
    "print('Count of disadvantaged class with unfavourable outcome', s_disadv_y_unfav)\n",
    "\n",
    "w_s_adv_y_fav = (s_adv*y_fav)/(s_adv_y_fav*n)\n",
    "w_s_adv_y_unfav = (s_adv*y_unfav)/(s_adv_y_unfav*n)\n",
    "w_s_disadv_y_fav = (s_disadv*y_fav)/(s_disadv_y_fav*n)\n",
    "w_s_disadv_y_unfav = (s_disadv*y_unfav)/(s_disadv_y_unfav*n)\n",
    "\n",
    "print('Weight of advantaged class with favourable outcome', w_s_adv_y_fav)\n",
    "print('Weight of advantaged class with unfavourable outcome', w_s_adv_y_unfav)\n",
    "print('Weight of disadvantaged class with favourable outcome', w_s_disadv_y_fav)\n",
    "print('Weight of disadvantaged class with unfavourable outcome', w_s_disadv_y_unfav)\n",
    "\n",
    "spd_before_reweighting = (s_adv_y_fav/s_adv) - (s_disadv_y_fav/s_disadv)\n",
    "print(\"SPD before reweighting = \", spd_before_reweighting)\n",
    "spd_after_reweighting = (s_adv_y_fav/s_adv)*w_s_adv_y_fav - (s_disadv_y_fav/s_disadv)*w_s_disadv_y_fav\n",
    "print(\"SPD after reweighting = \", abs(spd_after_reweighting))"
   ]
  },
  {
   "cell_type": "code",
   "execution_count": null,
   "metadata": {},
   "outputs": [],
   "source": [
    "df_raw['Marital_status_weight'] = 0\n",
    "df_raw['Marital_status_weight'] = np.where((df_raw['Marital_status'] == 0 ) & (df_raw['Target'] == 0), w_s_adv_y_fav, df_raw['Marital_status_weight'])\n",
    "df_raw['Marital_status_weight'] = np.where((df_raw['Marital_status'] == 0 ) & (df_raw['Target'] == 1), w_s_adv_y_unfav, df_raw['Marital_status_weight'])\n",
    "df_raw['Marital_status_weight'] = np.where((df_raw['Marital_status'] == 1 ) & (df_raw['Target'] == 0), w_s_disadv_y_fav, df_raw['Marital_status_weight'])\n",
    "df_raw['Marital_status_weight'] = np.where((df_raw['Marital_status'] == 1 ) & (df_raw['Target'] == 1), w_s_disadv_y_unfav, df_raw['Marital_status_weight'])\n",
    "\n",
    "\n",
    "df['Marital_status_weight'] = 0\n",
    "df['Marital_status_weight'] = np.where((df['Marital_status'] == 0 ) & (df['Target'] == 0), w_s_adv_y_fav, df['Marital_status_weight'])\n",
    "df['Marital_status_weight'] = np.where((df['Marital_status'] == 0 ) & (df['Target'] == 1), w_s_adv_y_unfav, df['Marital_status_weight'])\n",
    "df['Marital_status_weight'] = np.where((df['Marital_status'] == 1 ) & (df['Target'] == 0), w_s_disadv_y_fav, df['Marital_status_weight'])\n",
    "df['Marital_status_weight'] = np.where((df['Marital_status'] == 1 ) & (df['Target'] == 1), w_s_disadv_y_unfav, df['Marital_status_weight'])\n"
   ]
  },
  {
   "cell_type": "code",
   "execution_count": null,
   "metadata": {},
   "outputs": [],
   "source": [
    "X_dp = df.drop(columns_to_drop,axis = 1)\n",
    "Y_dp = df.Target\n",
    "X_raw = df_raw.drop(columns_to_drop, axis=1)\n",
    "Y_raw = df_raw.Target\n",
    "\n",
    "X_train_dp, X_test_dp, y_train_dp, y_test_dp = train_test_split(X_dp, Y_dp, test_size=0.30, random_state=42)\n",
    "X_train_raw, X_test_raw, y_train_raw, y_test_raw = train_test_split(X_raw, Y_raw, test_size=0.30, random_state=42)\n",
    "\n",
    "X_train_dp_scaled = scaler.fit_transform(X_train_dp)\n",
    "X_test_dp_scaled = scaler.fit_transform(X_test_dp)\n",
    "\n",
    "X_train_raw_scaled = scaler.fit_transform(X_train_raw)\n",
    "X_test_raw_scaled = scaler.fit_transform(X_test_raw)\n",
    "\n",
    "X_train_dp_scaled = pd.DataFrame(X_train_dp_scaled, columns=X_train_dp.columns)\n",
    "X_test_dp_scaled = pd.DataFrame(X_test_dp_scaled, columns=X_test_dp.columns)\n",
    "X_train_raw_scaled = pd.DataFrame(X_train_raw_scaled, columns=X_train_raw.columns)\n",
    "X_test_raw_scaled = pd.DataFrame(X_test_raw_scaled, columns=X_test_raw.columns)"
   ]
  },
  {
   "cell_type": "code",
   "execution_count": null,
   "metadata": {},
   "outputs": [],
   "source": [
    "models_to_run = {\n",
    "    'Raw_Data': {\n",
    "        'DiffPrivLib': {\n",
    "            'RandomForest': {\n",
    "                'X_train': X_train_raw.drop('Marital_status_weight', axis=1),\n",
    "                'X_test': X_test_raw.drop('Marital_status_weight', axis=1),\n",
    "                'Y_train': y_train_raw,\n",
    "                'Y_test': y_test_raw,\n",
    "                'PickleFileName': \"raw_diff_rf.pkl\",\n",
    "                'MinMax': (X_train_raw.min().min(), X_train_raw.max().max()),\n",
    "                'SampleWeights': X_train_raw.Marital_status_weight\n",
    "            },\n",
    "            'LogisticRegression': {\n",
    "                'X_train': X_train_raw_scaled.drop('Marital_status_weight', axis=1),\n",
    "                'X_test': X_test_raw_scaled.drop('Marital_status_weight', axis=1),\n",
    "                'Y_train': y_train_raw,\n",
    "                'Y_test': y_test_raw,\n",
    "                'PickleFileName': \"raw_diff_lr.pkl\",\n",
    "                'MinMax': (X_train_raw_scaled.min().min(), X_train_raw_scaled.max().max()),\n",
    "                'SampleWeights': X_train_raw.Marital_status_weight\n",
    "            } \n",
    "        },\n",
    "        'SKLearn': {\n",
    "            'RandomForest': {\n",
    "                'X_train': X_train_raw.drop('Marital_status_weight', axis=1),\n",
    "                'X_test': X_test_raw.drop('Marital_status_weight', axis=1),\n",
    "                'Y_train': y_train_raw,\n",
    "                'Y_test': y_test_raw,\n",
    "                'PickleFileName': \"raw_sklearn_rf.pkl\",\n",
    "                'MinMax': (X_train_raw.min().min(), X_train_raw.max().max()),\n",
    "                'SampleWeights': X_train_raw.Marital_status_weight\n",
    "            },\n",
    "            'LogisticRegression': {\n",
    "                'X_train': X_train_raw_scaled.drop('Marital_status_weight', axis=1),\n",
    "                'X_test': X_test_raw_scaled.drop('Marital_status_weight', axis=1),\n",
    "                'Y_train': y_train_raw,\n",
    "                'Y_test': y_test_raw,\n",
    "                'PickleFileName': \"raw_sklearn_lr.pkl\",\n",
    "                'MinMax': (X_train_raw_scaled.min().min(), X_train_raw_scaled.max().max()),\n",
    "                'SampleWeights': X_train_raw.Marital_status_weight\n",
    "            } \n",
    "        } \n",
    "    },\n",
    "    'DP_Data': {\n",
    "        'DiffPrivLib': {\n",
    "            'RandomForest': {\n",
    "                'X_train': X_train_dp.drop('Marital_status_weight', axis=1),\n",
    "                'X_test': X_test_dp.drop('Marital_status_weight', axis=1),\n",
    "                'Y_train': y_train_dp,\n",
    "                'Y_test': y_test_dp,\n",
    "                'PickleFileName': \"dp_diff_rf.pkl\",\n",
    "                'MinMax': (X_train_dp.min().min(), X_train_dp.max().max()),\n",
    "                'SampleWeights': X_train_raw.Marital_status_weight\n",
    "            },\n",
    "            'LogisticRegression': {\n",
    "                'X_train': X_train_dp_scaled.drop('Marital_status_weight', axis=1),\n",
    "                'X_test': X_test_dp_scaled.drop('Marital_status_weight', axis=1),\n",
    "                'Y_train': y_train_dp,\n",
    "                'Y_test': y_test_dp,\n",
    "                'PickleFileName': \"dp_diff_lr.pkl\",\n",
    "                'MinMax': (X_train_dp_scaled.min().min(), X_train_dp_scaled.max().max()),\n",
    "                'SampleWeights': X_train_raw.Marital_status_weight\n",
    "            } \n",
    "        },\n",
    "        'SKLearn': {\n",
    "            'RandomForest': {\n",
    "                'X_train': X_train_dp.drop('Marital_status_weight', axis=1),\n",
    "                'X_test': X_test_dp.drop('Marital_status_weight', axis=1),\n",
    "                'Y_train': y_train_dp,\n",
    "                'Y_test': y_test_dp,\n",
    "                'PickleFileName': \"dp_sklearn_rf.pkl\",\n",
    "                'MinMax': (X_train_dp.min().min(), X_train_dp.max().max()),\n",
    "                'SampleWeights': X_train_raw.Marital_status_weight\n",
    "            },\n",
    "            'LogisticRegression': {\n",
    "                'X_train': X_train_dp_scaled.drop('Marital_status_weight', axis=1),\n",
    "                'X_test': X_test_dp_scaled.drop('Marital_status_weight', axis=1),\n",
    "                'Y_train': y_train_dp,\n",
    "                'Y_test': y_test_dp,\n",
    "                'PickleFileName': \"dp_sklearn_lr.pkl\",\n",
    "                'MinMax': (X_train_dp_scaled.min().min(), X_train_dp_scaled.max().max()),\n",
    "                'SampleWeights': X_train_raw.Marital_status_weight\n",
    "            } \n",
    "        } \n",
    "    }\n",
    "}"
   ]
  },
  {
   "cell_type": "code",
   "execution_count": null,
   "metadata": {},
   "outputs": [
    {
     "name": "stdout",
     "output_type": "stream",
     "text": [
      "Model: RandomForest, Epsilon: 0.1, Time Taken: 0:00:08.933398\n",
      "Model: RandomForest, Epsilon: 0.2, Time Taken: 0:00:09.905562\n",
      "Model: RandomForest, Epsilon: 0.3, Time Taken: 0:00:10.627427\n",
      "Model: RandomForest, Epsilon: 0.4, Time Taken: 0:00:11.824095\n",
      "Model: RandomForest, Epsilon: 0.5, Time Taken: 0:00:10.253627\n",
      "Model: RandomForest, Epsilon: 0.6, Time Taken: 0:00:10.171791\n",
      "Model: RandomForest, Epsilon: 0.7, Time Taken: 0:00:09.618458\n",
      "Model: RandomForest, Epsilon: 0.8, Time Taken: 0:00:09.687001\n",
      "Model: RandomForest, Epsilon: 0.9, Time Taken: 0:00:09.776725\n",
      "Model: RandomForest, Epsilon: 1.0, Time Taken: 0:00:10.207227\n",
      "Model: LogisticRegression, Epsilon: 0.1, Time Taken: 0:00:00.007902\n",
      "Model: LogisticRegression, Epsilon: 0.2, Time Taken: 0:00:00.016002\n",
      "Model: LogisticRegression, Epsilon: 0.3, Time Taken: 0:00:00.016189\n",
      "Model: LogisticRegression, Epsilon: 0.4, Time Taken: 0:00:00.008106\n",
      "Model: LogisticRegression, Epsilon: 0.5, Time Taken: 0:00:00.015988\n",
      "Model: LogisticRegression, Epsilon: 0.6, Time Taken: 0:00:00.008009\n",
      "Model: LogisticRegression, Epsilon: 0.7, Time Taken: 0:00:00.015990\n",
      "Model: LogisticRegression, Epsilon: 0.8, Time Taken: 0:00:00.015920\n",
      "Model: LogisticRegression, Epsilon: 0.9, Time Taken: 0:00:00.008095\n",
      "Model: LogisticRegression, Epsilon: 1.0, Time Taken: 0:00:00.015909\n",
      "Model: RandomForest, Epsilon: 0.1, Time Taken: 0:00:10.833956\n",
      "Model: RandomForest, Epsilon: 0.2, Time Taken: 0:00:10.547129\n",
      "Model: RandomForest, Epsilon: 0.3, Time Taken: 0:00:12.468926\n",
      "Model: RandomForest, Epsilon: 0.4, Time Taken: 0:00:10.937509\n",
      "Model: RandomForest, Epsilon: 0.5, Time Taken: 0:00:10.109429\n",
      "Model: RandomForest, Epsilon: 0.6, Time Taken: 0:00:09.601875\n",
      "Model: RandomForest, Epsilon: 0.7, Time Taken: 0:00:09.630782\n",
      "Model: RandomForest, Epsilon: 0.8, Time Taken: 0:00:10.410061\n",
      "Model: RandomForest, Epsilon: 0.9, Time Taken: 0:00:10.989595\n",
      "Model: RandomForest, Epsilon: 1.0, Time Taken: 0:00:10.912051\n",
      "Model: LogisticRegression, Epsilon: 0.1, Time Taken: 0:00:00.017195\n",
      "Model: LogisticRegression, Epsilon: 0.2, Time Taken: 0:00:00\n",
      "Model: LogisticRegression, Epsilon: 0.3, Time Taken: 0:00:00.014601\n",
      "Model: LogisticRegression, Epsilon: 0.4, Time Taken: 0:00:00.015646\n",
      "Model: LogisticRegression, Epsilon: 0.5, Time Taken: 0:00:00.015699\n",
      "Model: LogisticRegression, Epsilon: 0.6, Time Taken: 0:00:00.016453\n",
      "Model: LogisticRegression, Epsilon: 0.7, Time Taken: 0:00:00.004006\n",
      "Model: LogisticRegression, Epsilon: 0.8, Time Taken: 0:00:00.011105\n",
      "Model: LogisticRegression, Epsilon: 0.9, Time Taken: 0:00:00.022541\n",
      "Model: LogisticRegression, Epsilon: 1.0, Time Taken: 0:00:00.009852\n"
     ]
    }
   ],
   "source": [
    "datatype = []\n",
    "package = []\n",
    "model = []\n",
    "accuracy = []\n",
    "mae = []\n",
    "mse = []\n",
    "rmse = []\n",
    "\n",
    "f1 = []\n",
    "fnr = []\n",
    "aucs = []\n",
    "\n",
    "for data, models in models_to_run.items():\n",
    "    for package_name, model_inputs in models.items():\n",
    "        for model_name, inputs in model_inputs.items():          \n",
    "            datatype.append(data)\n",
    "            package.append(package_name)\n",
    "            model.append(model_name)\n",
    "\n",
    "            metrics, mdl = get_model_with_metrics(package_name, model_name, inputs)\n",
    "            f1.append(metrics[1])\n",
    "            fnr.append(metrics[0])\n",
    "            aucs.append(metrics[2])\n",
    "            accuracy.append(metrics[3])\n",
    "\n",
    "            with open(f\"picklefiles/re_weighted/{inputs['PickleFileName']}\", 'wb') as input_file:\n",
    "                pickle.dump(mdl, input_file)"
   ]
  },
  {
   "cell_type": "code",
   "execution_count": null,
   "metadata": {},
   "outputs": [
    {
     "data": {
      "text/html": [
       "<div>\n",
       "<style scoped>\n",
       "    .dataframe tbody tr th:only-of-type {\n",
       "        vertical-align: middle;\n",
       "    }\n",
       "\n",
       "    .dataframe tbody tr th {\n",
       "        vertical-align: top;\n",
       "    }\n",
       "\n",
       "    .dataframe thead th {\n",
       "        text-align: right;\n",
       "    }\n",
       "</style>\n",
       "<table border=\"1\" class=\"dataframe\">\n",
       "  <thead>\n",
       "    <tr style=\"text-align: right;\">\n",
       "      <th></th>\n",
       "      <th>DataType</th>\n",
       "      <th>Package</th>\n",
       "      <th>ModelName</th>\n",
       "      <th>F1</th>\n",
       "      <th>FNR</th>\n",
       "      <th>AUC</th>\n",
       "      <th>Accuracy</th>\n",
       "    </tr>\n",
       "  </thead>\n",
       "  <tbody>\n",
       "    <tr>\n",
       "      <th>0</th>\n",
       "      <td>Raw_Data</td>\n",
       "      <td>DiffPrivLib</td>\n",
       "      <td>RandomForest</td>\n",
       "      <td>0.250000</td>\n",
       "      <td>0.834467</td>\n",
       "      <td>0.543308</td>\n",
       "      <td>0.670181</td>\n",
       "    </tr>\n",
       "    <tr>\n",
       "      <th>1</th>\n",
       "      <td>Raw_Data</td>\n",
       "      <td>DiffPrivLib</td>\n",
       "      <td>LogisticRegression</td>\n",
       "      <td>0.541446</td>\n",
       "      <td>0.303855</td>\n",
       "      <td>0.630485</td>\n",
       "      <td>0.608434</td>\n",
       "    </tr>\n",
       "    <tr>\n",
       "      <th>2</th>\n",
       "      <td>Raw_Data</td>\n",
       "      <td>SKLearn</td>\n",
       "      <td>RandomForest</td>\n",
       "      <td>0.780669</td>\n",
       "      <td>0.285714</td>\n",
       "      <td>0.828394</td>\n",
       "      <td>0.866717</td>\n",
       "    </tr>\n",
       "    <tr>\n",
       "      <th>3</th>\n",
       "      <td>Raw_Data</td>\n",
       "      <td>SKLearn</td>\n",
       "      <td>LogisticRegression</td>\n",
       "      <td>0.793727</td>\n",
       "      <td>0.253968</td>\n",
       "      <td>0.839758</td>\n",
       "      <td>0.871235</td>\n",
       "    </tr>\n",
       "    <tr>\n",
       "      <th>4</th>\n",
       "      <td>DP_Data</td>\n",
       "      <td>DiffPrivLib</td>\n",
       "      <td>RandomForest</td>\n",
       "      <td>0.250429</td>\n",
       "      <td>0.834467</td>\n",
       "      <td>0.543871</td>\n",
       "      <td>0.670934</td>\n",
       "    </tr>\n",
       "    <tr>\n",
       "      <th>5</th>\n",
       "      <td>DP_Data</td>\n",
       "      <td>DiffPrivLib</td>\n",
       "      <td>LogisticRegression</td>\n",
       "      <td>0.541446</td>\n",
       "      <td>0.303855</td>\n",
       "      <td>0.630485</td>\n",
       "      <td>0.608434</td>\n",
       "    </tr>\n",
       "    <tr>\n",
       "      <th>6</th>\n",
       "      <td>DP_Data</td>\n",
       "      <td>SKLearn</td>\n",
       "      <td>RandomForest</td>\n",
       "      <td>0.786683</td>\n",
       "      <td>0.276644</td>\n",
       "      <td>0.832929</td>\n",
       "      <td>0.869729</td>\n",
       "    </tr>\n",
       "    <tr>\n",
       "      <th>7</th>\n",
       "      <td>DP_Data</td>\n",
       "      <td>SKLearn</td>\n",
       "      <td>LogisticRegression</td>\n",
       "      <td>0.793727</td>\n",
       "      <td>0.253968</td>\n",
       "      <td>0.839758</td>\n",
       "      <td>0.871235</td>\n",
       "    </tr>\n",
       "  </tbody>\n",
       "</table>\n",
       "</div>"
      ],
      "text/plain": [
       "   DataType      Package           ModelName        F1       FNR       AUC  \\\n",
       "0  Raw_Data  DiffPrivLib        RandomForest  0.250000  0.834467  0.543308   \n",
       "1  Raw_Data  DiffPrivLib  LogisticRegression  0.541446  0.303855  0.630485   \n",
       "2  Raw_Data      SKLearn        RandomForest  0.780669  0.285714  0.828394   \n",
       "3  Raw_Data      SKLearn  LogisticRegression  0.793727  0.253968  0.839758   \n",
       "4   DP_Data  DiffPrivLib        RandomForest  0.250429  0.834467  0.543871   \n",
       "5   DP_Data  DiffPrivLib  LogisticRegression  0.541446  0.303855  0.630485   \n",
       "6   DP_Data      SKLearn        RandomForest  0.786683  0.276644  0.832929   \n",
       "7   DP_Data      SKLearn  LogisticRegression  0.793727  0.253968  0.839758   \n",
       "\n",
       "   Accuracy  \n",
       "0  0.670181  \n",
       "1  0.608434  \n",
       "2  0.866717  \n",
       "3  0.871235  \n",
       "4  0.670934  \n",
       "5  0.608434  \n",
       "6  0.869729  \n",
       "7  0.871235  "
      ]
     },
     "execution_count": 117,
     "metadata": {},
     "output_type": "execute_result"
    }
   ],
   "source": [
    "df_model_outputs_2 = pd.DataFrame({'DataType': datatype, 'Package': package, 'ModelName': model, 'F1': f1, 'FNR': fnr, 'AUC': aucs, 'Accuracy' : accuracy})\n",
    "df_model_outputs_2"
   ]
  },
  {
   "attachments": {},
   "cell_type": "markdown",
   "metadata": {},
   "source": [
    "# Best Model found to be Logistic Regression"
   ]
  },
  {
   "cell_type": "code",
   "execution_count": null,
   "metadata": {},
   "outputs": [
    {
     "name": "stdout",
     "output_type": "stream",
     "text": [
      "Accuracy of the model without weights: 0.8591867469879518\n",
      "Accuracy difference between two groups: 3.8563329443200844 %\n"
     ]
    }
   ],
   "source": [
    "X_train_raw_reweighted, X_test_raw_reweighted, y_train_raw_reweighted, y_test_raw_rewighted = train_test_split(df_raw.drop('Target', axis = 1), df_raw['Target'], test_size=0.30, random_state = 42)\n",
    "\n",
    "X_train_weights = X_train_raw_reweighted['Marital_status_weight']\n",
    "X_test_weights = X_test_raw_reweighted['Marital_status_weight']\n",
    "\n",
    "X_train1  =X_train_raw_reweighted.drop(columns=[\"Marital_status_weight\",'Gender','Nacionality'], axis=1)\n",
    "X_test1 = X_test_raw_reweighted.drop(columns=[\"Marital_status_weight\",'Nacionality','Gender'], axis = 1)\n",
    "\n",
    "clf_wow = LogisticRegression(random_state=0, solver='lbfgs', multi_class='ovr').fit(X_train1, y_train_raw_reweighted)\n",
    "\n",
    "y_test = y_test_raw_rewighted\n",
    "y_train = y_train_raw_reweighted\n",
    "\n",
    "column = 'Marital_status'\n",
    "y_pred_wow = clf_wow.predict(X_test1)\n",
    "y_pred_prob_wow = clf_wow.predict_proba(X_test1)[:,0]\n",
    "\n",
    "print(\"Accuracy of the model without weights:\", clf_wow.score(X_test1, y_test_raw_rewighted))\n",
    "\n",
    "A_wow=clf_wow.score(X_test1[X_test1[column]==0], y_test_raw_rewighted[X_test1[column]==0]) #pval = 0 is Priviliged\n",
    "B_wow=clf_wow.score(X_test1[X_test1[column]==1], y_test_raw_rewighted[X_test1[column]==1]) #pval = 1 is Unpriviliged\n",
    "\n",
    "print(\"Accuracy difference between two groups:\", abs(B_wow-A_wow)*100, \"%\")"
   ]
  },
  {
   "cell_type": "code",
   "execution_count": null,
   "metadata": {},
   "outputs": [
    {
     "name": "stdout",
     "output_type": "stream",
     "text": [
      "Accuracy of the model with weights: 0.8629518072289156\n",
      "Accuracy difference between two groups: 4.274043888346812 %\n"
     ]
    }
   ],
   "source": [
    "clf_ww = LogisticRegression(random_state=0, solver='lbfgs',multi_class='ovr').fit(X_train1, y_train_raw_reweighted, sample_weight=X_train_weights)\n",
    "\n",
    "y_pred_ww = clf_ww.predict(X_test1)\n",
    "y_pred_prob_ww = clf_ww.predict_proba(X_test1)[:,0]\n",
    "\n",
    "print(\"Accuracy of the model with weights:\", clf_ww.score(X_test1, y_test_raw_rewighted))\n",
    "\n",
    "A_ww=clf_ww.score(X_test1[X_test1[column]==0], y_test_raw_rewighted[X_test1[column]==0])\n",
    "B_ww=clf_ww.score(X_test1[X_test1[column]==1], y_test_raw_rewighted[X_test1[column]==1])\n",
    "print(\"Accuracy difference between two groups:\", abs(B_ww-A_ww)*100, \"%\" )"
   ]
  },
  {
   "cell_type": "code",
   "execution_count": null,
   "metadata": {},
   "outputs": [],
   "source": [
    "model_perf=[model_metrics(y_test, y_pred_prob_ww, y_pred_prob_wow, \n",
    "                          y_pred_ww, y_pred_wow, X_test1)]\n",
    "\n",
    "headers=[\"AUC\", \"Gini\", \"Avg Precision Score\", \"Precision\", \"Sensitivity\", \"False Negative Rate\", \"F1 Score\", \"Total Cost\"]\n",
    "\n",
    "B = list(model_perf[0])[:len(list(model_perf[0]))//2]\n",
    "C = list(model_perf[0])[len(list(model_perf[0]))//2:]\n",
    "\n",
    "\n",
    "model_table={'Metrics':headers, 'With_Weights':B, 'Without_Weights':C}\n",
    "\n",
    "model_table_df=pd.DataFrame.from_dict(model_table)\n",
    "model_table_df.loc[8] = ['Total Cost (in Mn)', model_table_df.iloc[7,1]/10000000, model_table_df.iloc[7,2]/10000000]"
   ]
  },
  {
   "cell_type": "code",
   "execution_count": null,
   "metadata": {},
   "outputs": [
    {
     "data": {
      "text/html": [
       "<div>\n",
       "<style scoped>\n",
       "    .dataframe tbody tr th:only-of-type {\n",
       "        vertical-align: middle;\n",
       "    }\n",
       "\n",
       "    .dataframe tbody tr th {\n",
       "        vertical-align: top;\n",
       "    }\n",
       "\n",
       "    .dataframe thead th {\n",
       "        text-align: right;\n",
       "    }\n",
       "</style>\n",
       "<table border=\"1\" class=\"dataframe\">\n",
       "  <thead>\n",
       "    <tr style=\"text-align: right;\">\n",
       "      <th></th>\n",
       "      <th>Metrics</th>\n",
       "      <th>With_Weights</th>\n",
       "      <th>Without_Weights</th>\n",
       "    </tr>\n",
       "  </thead>\n",
       "  <tbody>\n",
       "    <tr>\n",
       "      <th>0</th>\n",
       "      <td>AUC</td>\n",
       "      <td>0.095248</td>\n",
       "      <td>0.096703</td>\n",
       "    </tr>\n",
       "    <tr>\n",
       "      <th>1</th>\n",
       "      <td>Gini</td>\n",
       "      <td>-0.809503</td>\n",
       "      <td>-0.806594</td>\n",
       "    </tr>\n",
       "    <tr>\n",
       "      <th>2</th>\n",
       "      <td>Avg Precision Score</td>\n",
       "      <td>0.699486</td>\n",
       "      <td>0.692179</td>\n",
       "    </tr>\n",
       "    <tr>\n",
       "      <th>3</th>\n",
       "      <td>Precision</td>\n",
       "      <td>0.824561</td>\n",
       "      <td>0.820707</td>\n",
       "    </tr>\n",
       "    <tr>\n",
       "      <th>4</th>\n",
       "      <td>Sensitivity</td>\n",
       "      <td>0.746032</td>\n",
       "      <td>0.736961</td>\n",
       "    </tr>\n",
       "    <tr>\n",
       "      <th>5</th>\n",
       "      <td>False Negative Rate</td>\n",
       "      <td>0.253968</td>\n",
       "      <td>0.263039</td>\n",
       "    </tr>\n",
       "    <tr>\n",
       "      <th>6</th>\n",
       "      <td>F1 Score</td>\n",
       "      <td>0.783333</td>\n",
       "      <td>0.776583</td>\n",
       "    </tr>\n",
       "    <tr>\n",
       "      <th>7</th>\n",
       "      <td>Total Cost</td>\n",
       "      <td>82600.000000</td>\n",
       "      <td>84500.000000</td>\n",
       "    </tr>\n",
       "    <tr>\n",
       "      <th>8</th>\n",
       "      <td>Total Cost (in Mn)</td>\n",
       "      <td>0.008260</td>\n",
       "      <td>0.008450</td>\n",
       "    </tr>\n",
       "  </tbody>\n",
       "</table>\n",
       "</div>"
      ],
      "text/plain": [
       "               Metrics  With_Weights  Without_Weights\n",
       "0                  AUC      0.095248         0.096703\n",
       "1                 Gini     -0.809503        -0.806594\n",
       "2  Avg Precision Score      0.699486         0.692179\n",
       "3            Precision      0.824561         0.820707\n",
       "4          Sensitivity      0.746032         0.736961\n",
       "5  False Negative Rate      0.253968         0.263039\n",
       "6             F1 Score      0.783333         0.776583\n",
       "7           Total Cost  82600.000000     84500.000000\n",
       "8   Total Cost (in Mn)      0.008260         0.008450"
      ]
     },
     "execution_count": 122,
     "metadata": {},
     "output_type": "execute_result"
    }
   ],
   "source": [
    "model_table_df"
   ]
  },
  {
   "cell_type": "code",
   "execution_count": null,
   "metadata": {},
   "outputs": [
    {
     "data": {
      "image/png": "[encoded data removed]",
      "text/plain": [
       "<Figure size 720x360 with 1 Axes>"
      ]
     },
     "metadata": {
      "needs_background": "light"
     },
     "output_type": "display_data"
    }
   ],
   "source": [
    "txt='Marital Status'\n",
    "\n",
    "ax = model_table_df.iloc[[0,2,3,4,5,6,8],:].plot.bar(x='Metrics', rot=90, width = 0.7, \n",
    "                                                       color=['red', 'black'], figsize=(10,5), fontsize=12)\n",
    "plt.suptitle('Before and after reweighting: {}'.format(txt),  fontsize=16, y=1)\n",
    "\n",
    "\n",
    "\n",
    "patches, labels = ax.get_legend_handles_labels()\n",
    "ax.legend(patches, labels, loc='upper right', fontsize=12)\n",
    "\n",
    "ax.set_xlabel('Accuracy metrics', fontsize=15)\n",
    "plt.show()"
   ]
  },
  {
   "attachments": {},
   "cell_type": "markdown",
   "metadata": {},
   "source": [
    "# Fairness metrics"
   ]
  },
  {
   "cell_type": "code",
   "execution_count": null,
   "metadata": {},
   "outputs": [
    {
     "name": "stdout",
     "output_type": "stream",
     "text": [
      "Accuracy of the model without weights: 0.865210843373494\n",
      "Accuracy difference between two groups: 2.830868519900265 %\n",
      "Accuracy of the model with weights: 0.8629518072289156\n",
      "Accuracy difference between two groups: 3.4271429209155158 %\n"
     ]
    }
   ],
   "source": [
    "X_train_dp_reweighted, X_test_dp_reweighted, y_train_dp_reweighted, y_test_dp_reweighted = train_test_split(df.drop('Target', axis = 1), df['Target'], test_size = 0.30, random_state = 42)\n",
    "X_train, X_test, y_train, y_test = train_test_split(df.drop('Target', axis = 1), df['Target'], test_size=0.30, random_state=6666)\n",
    "\n",
    "X_train1 = X_train_raw_reweighted.drop(columns=[\"Marital_status_weight\",'Gender','Nacionality'],axis=1)\n",
    "X_test1 = X_test_raw_reweighted.drop(columns=[\"Marital_status_weight\",'Nacionality','Gender'],axis = 1)\n",
    "\n",
    "X_train_weights = X_train_dp_reweighted['Marital_status_weight']\n",
    "X_test_weights = X_test_dp_reweighted['Marital_status_weight']\n",
    "\n",
    "X_train1 = X_train_dp_reweighted.drop(columns=[\"Marital_status_weight\",'Gender','Nacionality'],axis=1)\n",
    "X_test1 = X_test_dp_reweighted.drop(columns=[\"Marital_status_weight\",'Gender','Nacionality'],axis=1)\n",
    "\n",
    "clf_wow = LogisticRegression(random_state=0, solver='lbfgs',\n",
    "                              multi_class='ovr').fit(X_train1, y_train_dp_reweighted)\n",
    "\n",
    "y_test = y_test_dp_reweighted\n",
    "y_train = y_train_dp_reweighted\n",
    "\n",
    "column = 'Marital_status'\n",
    "y_pred_wow = clf_wow.predict(X_test1)\n",
    "y_pred_prob_wow = clf_wow.predict_proba(X_test1)[:,0]\n",
    "\n",
    "print(\"Accuracy of the model without weights:\", clf_wow.score(X_test1, y_test_dp_reweighted))\n",
    "\n",
    "A_wow=clf_wow.score(X_test1[X_test1[column]==0], y_test_dp_reweighted[X_test1[column]==0]) #pval = 0 is Priviliged\n",
    "B_wow=clf_wow.score(X_test1[X_test1[column]==1], y_test_dp_reweighted[X_test1[column]==1]) #pval = 1 is Unpriviliged\n",
    "print(\"Accuracy difference between two groups:\", abs(B_wow-A_wow)*100, \"%\")\n",
    "\n",
    "\n",
    "\n",
    "\n",
    "clf_ww = LogisticRegression(random_state=0, solver='lbfgs',\n",
    "                              multi_class='ovr').fit(X_train1, y_train_dp_reweighted, sample_weight=X_train_weights)\n",
    "\n",
    "y_pred_ww = clf_ww.predict(X_test1)\n",
    "y_pred_prob_ww = clf_ww.predict_proba(X_test1)[:,0]\n",
    "\n",
    "print(\"Accuracy of the model with weights:\", clf_ww.score(X_test1, y_test_dp_reweighted))\n",
    "\n",
    "A_ww=clf_ww.score(X_test1[X_test1[column]==0], y_test_dp_reweighted[X_test1[column]==0])\n",
    "B_ww=clf_ww.score(X_test1[X_test1[column]==1], y_test_dp_reweighted[X_test1[column]==1])\n",
    "print(\"Accuracy difference between two groups:\", abs(B_ww-A_ww)*100, \"%\" )\n",
    "\n",
    "\n"
   ]
  },
  {
   "cell_type": "code",
   "execution_count": null,
   "metadata": {},
   "outputs": [
    {
     "name": "stdout",
     "output_type": "stream",
     "text": [
      "               Metrics  With_Weights  Without_Weights\n",
      "0                  AUC      0.021054         0.017111\n",
      "1        Avg Precision      0.100823         0.101571\n",
      "2              Eq Oppo      0.045801         0.079134\n",
      "3           Eq Of Odds      0.577428         0.556769\n",
      "4            Precision      0.015239         0.001600\n",
      "5          Demo Parity      0.142602         0.167174\n",
      "6        Avg Odds Diff      0.049516         0.074450\n",
      "7        Pred Equality      0.053231         0.069767\n",
      "8   Treatment Equality      0.222222         0.624138\n",
      "9          Pred Parity      0.015239         0.001600\n",
      "10           Cost Diff -61800.000000    -60300.000000\n",
      "11          Total Cost  82200.000000     80900.000000\n",
      "12  Total Cost (in Mn)      0.008220         0.008090\n"
     ]
    },
    {
     "data": {
      "image/png": "[encoded data removed]",
      "text/plain": [
       "<Figure size 720x360 with 1 Axes>"
      ]
     },
     "metadata": {
      "needs_background": "light"
     },
     "output_type": "display_data"
    }
   ],
   "source": [
    "choice = 'Marital_status'\n",
    "pval = 0\n",
    "upval = 1\n",
    "\n",
    "ww=[perf_metrics(y_test, y_pred_prob_ww, y_pred_ww, X_test1, choice, pval, upval)]\n",
    "wow=[perf_metrics(y_test, y_pred_prob_wow, y_pred_wow, X_test1, choice, pval, upval)]\n",
    "headers=[\"AUC\", \"Avg Precision\", \"Eq Oppo\", \"Eq Of Odds\", \"Precision\", \n",
    "         \"Demo Parity\", \"Avg Odds Diff\", \"Pred Equality\", \"Treatment Equality\", \"Pred Parity\",\n",
    "         \"Cost Diff\", \"Total Cost\"]\n",
    "\n",
    "\n",
    "ww_wow={'Metrics':headers, \n",
    "             'With_Weights':list(ww[0]), 'Without_Weights':list(wow[0])}\n",
    "\n",
    "compare_table=pd.DataFrame.from_dict(ww_wow)\n",
    "compare_table.loc[12] = ['Total Cost (in Mn)', compare_table.iloc[11,1]/10000000, compare_table.iloc[11,2]/10000000]\n",
    "\n",
    "\n",
    "print(compare_table)\n",
    "\n",
    "ax = compare_table.iloc[[0,1,2,3,4,5,6,7,9,12],:].plot.bar(x='Metrics', rot=90, width = 0.7, color=['red', 'black'], \n",
    "                                                           figsize=(10,5), fontsize=12)\n",
    "plt.suptitle('Absolute difference before and after reweighing for {}'.format(txt),  \n",
    "             fontsize=15, y=1)\n",
    "patches, labels = ax.get_legend_handles_labels()\n",
    "ax.legend(patches, labels, loc='upper right', fontsize=12)\n",
    "ax.set_xlabel('Fairness metrics', fontsize=15)\n",
    "plt.show()"
   ]
  },
  {
   "attachments": {},
   "cell_type": "markdown",
   "metadata": {},
   "source": [
    "<a id=\"6\"> </a> \n",
    "\n",
    "<div class=\"alert alert-block alert-warning\">\n",
    "<span style=\"font-family:Futura Next; font-size:2em;\">Accuracy-cost-fairness trade-off</span>\n",
    "</div>"
   ]
  },
  {
   "cell_type": "code",
   "execution_count": null,
   "metadata": {},
   "outputs": [],
   "source": [
    "thresholds = np.arange(0, 1.01, 0.01)"
   ]
  },
  {
   "cell_type": "code",
   "execution_count": null,
   "metadata": {},
   "outputs": [],
   "source": [
    "EOpp, EOdds, demo_parity, AOD, p_eq, TE, pp, TNR, precision, FPR, f1, roc, sensitivity, fnr, fp, fn, cost = on_same_threshold(X_test1, y_test, choice, y_pred_prob_wow, pval, upval)"
   ]
  },
  {
   "cell_type": "code",
   "execution_count": null,
   "metadata": {},
   "outputs": [],
   "source": [
    "cost = [x / 100000 for x in cost]\n",
    "\n",
    "same_thresholds={'Threshold':thresholds, \n",
    "             'Eq of Opportunity':EOpp, 'Eq of Odds':EOdds, 'Demographic Parity': demo_parity,\n",
    "                 'Avg Odds':AOD, 'Pred equality':p_eq, 'Treatment eq':TE, 'Pred Parity':pp,\n",
    "                 'True Negative Rate': TNR, 'Precision': precision, 'False Positive Rate':FPR, \n",
    "                 \"F1\": f1, \"Area Under Curve\":roc , \"Sensitivity\":sensitivity, \"False Negative Rate\":fnr,\n",
    "                 \"FP\":fp, \"FN\":fn,\n",
    "                 'Cost':cost}\n",
    "\n",
    "same_thresholds_table=pd.DataFrame.from_dict(same_thresholds)\n",
    "same_thresholds_table = same_thresholds_table.fillna(0)\n",
    "#same_thresholds_table.tail(10)"
   ]
  },
  {
   "cell_type": "code",
   "execution_count": null,
   "metadata": {},
   "outputs": [
    {
     "data": {
      "image/png": "[encoded data removed]",
      "text/plain": [
       "<Figure size 1440x720 with 2 Axes>"
      ]
     },
     "metadata": {
      "needs_background": "light"
     },
     "output_type": "display_data"
    }
   ],
   "source": [
    "fig, ax1 = plt.subplots(figsize=(20,10))\n",
    "\n",
    "fig.suptitle('Fairness metrics (and total cost) at various threshold for {}'.format(choice), fontsize=20, y=1.05)\n",
    "\n",
    "\n",
    "ax1.plot( 'Threshold', 'Eq of Opportunity', data=same_thresholds_table, marker='', color='blue', linewidth=2)\n",
    "ax1.plot( 'Threshold', 'Eq of Odds', data=same_thresholds_table, marker='', color='red', linewidth=2)\n",
    "ax1.plot( 'Threshold', 'Demographic Parity', data=same_thresholds_table, marker='', color='yellow', linewidth=2)\n",
    "ax1.plot( 'Threshold', 'True Negative Rate', data=same_thresholds_table, marker='', color='green', linewidth=2)\n",
    "ax1.plot( 'Threshold', 'False Positive Rate', data=same_thresholds_table, marker='', linestyle='--', color='purple', linewidth=2)\n",
    "ax1.plot( 'Threshold', 'Area Under Curve', data=same_thresholds_table, marker='', linestyle='--', color='grey', linewidth=2)\n",
    "ax1.plot( 'Threshold', 'False Negative Rate', data=same_thresholds_table, marker='', linestyle='--', color='cyan', linewidth=2)\n",
    "\n",
    "ax2 = ax1.twinx() \n",
    "ax2.plot( 'Threshold', 'Cost', data=same_thresholds_table, marker='', color='orange', linewidth=2)\n",
    "\n",
    "\n",
    "\n",
    "patches, labels = ax1.get_legend_handles_labels()\n",
    "ax1.legend(patches, labels, loc='upper left', fontsize=10)\n",
    "\n",
    "patches, labels = ax2.get_legend_handles_labels()\n",
    "ax2.legend(patches, labels, loc='upper left', fontsize=14)\n",
    "\n",
    "ax1.set_ylabel('difference in fairness metrics', fontsize=15)\n",
    "ax2.set_ylabel('Total cost (in 100k)', fontsize=15)\n",
    "\n",
    "fig.tight_layout()  # otherwise the right y-label is slightly clipped\n",
    "plt.legend()\n",
    "ax1.set_xlabel('Thresholds', fontsize=15)\n",
    "plt.show()"
   ]
  },
  {
   "attachments": {},
   "cell_type": "markdown",
   "metadata": {},
   "source": [
    "# ACF"
   ]
  },
  {
   "cell_type": "code",
   "execution_count": null,
   "metadata": {},
   "outputs": [],
   "source": [
    "final_df = pd.read_csv('dataset_featured_v2.csv')"
   ]
  },
  {
   "cell_type": "code",
   "execution_count": null,
   "metadata": {},
   "outputs": [],
   "source": [
    "X = final_df.drop('Target', axis=1)\n",
    "Y = final_df.Target"
   ]
  },
  {
   "cell_type": "code",
   "execution_count": null,
   "metadata": {},
   "outputs": [],
   "source": [
    "PII_columns = ['Marital_status','Gender','Nacionality']"
   ]
  },
  {
   "cell_type": "code",
   "execution_count": null,
   "metadata": {},
   "outputs": [],
   "source": [
    "model = ACF(X, Y, PII_columns)"
   ]
  },
  {
   "cell_type": "code",
   "execution_count": null,
   "metadata": {},
   "outputs": [],
   "source": [
    "model.fit()"
   ]
  },
  {
   "cell_type": "code",
   "execution_count": null,
   "metadata": {},
   "outputs": [],
   "source": [
    "choice = \"Marital_status\"\n",
    "\n",
    "acf_metrics, logistic_reg_fair_metrics = model.score(choice, 0, 1)"
   ]
  },
  {
   "cell_type": "code",
   "execution_count": null,
   "metadata": {},
   "outputs": [
    {
     "data": {
      "text/html": [
       "<div>\n",
       "<style scoped>\n",
       "    .dataframe tbody tr th:only-of-type {\n",
       "        vertical-align: middle;\n",
       "    }\n",
       "\n",
       "    .dataframe tbody tr th {\n",
       "        vertical-align: top;\n",
       "    }\n",
       "\n",
       "    .dataframe thead th {\n",
       "        text-align: right;\n",
       "    }\n",
       "</style>\n",
       "<table border=\"1\" class=\"dataframe\">\n",
       "  <thead>\n",
       "    <tr style=\"text-align: right;\">\n",
       "      <th></th>\n",
       "      <th>Metrics</th>\n",
       "      <th>Baseline Model</th>\n",
       "      <th>ACF Fair Model</th>\n",
       "    </tr>\n",
       "  </thead>\n",
       "  <tbody>\n",
       "    <tr>\n",
       "      <th>0</th>\n",
       "      <td>Equal Opps</td>\n",
       "      <td>0.043176</td>\n",
       "      <td>0.002493</td>\n",
       "    </tr>\n",
       "    <tr>\n",
       "      <th>1</th>\n",
       "      <td>PredEq</td>\n",
       "      <td>0.054457</td>\n",
       "      <td>0.043444</td>\n",
       "    </tr>\n",
       "    <tr>\n",
       "      <th>2</th>\n",
       "      <td>Equal Odds</td>\n",
       "      <td>0.097632</td>\n",
       "      <td>0.040951</td>\n",
       "    </tr>\n",
       "    <tr>\n",
       "      <th>3</th>\n",
       "      <td>PredParity</td>\n",
       "      <td>0.012306</td>\n",
       "      <td>0.001042</td>\n",
       "    </tr>\n",
       "    <tr>\n",
       "      <th>4</th>\n",
       "      <td>DemoParity</td>\n",
       "      <td>0.142602</td>\n",
       "      <td>0.068607</td>\n",
       "    </tr>\n",
       "    <tr>\n",
       "      <th>5</th>\n",
       "      <td>AOD</td>\n",
       "      <td>0.048816</td>\n",
       "      <td>0.020476</td>\n",
       "    </tr>\n",
       "  </tbody>\n",
       "</table>\n",
       "</div>"
      ],
      "text/plain": [
       "      Metrics  Baseline Model  ACF Fair Model\n",
       "0  Equal Opps        0.043176        0.002493\n",
       "1      PredEq        0.054457        0.043444\n",
       "2  Equal Odds        0.097632        0.040951\n",
       "3  PredParity        0.012306        0.001042\n",
       "4  DemoParity        0.142602        0.068607\n",
       "5         AOD        0.048816        0.020476"
      ]
     },
     "execution_count": 173,
     "metadata": {},
     "output_type": "execute_result"
    }
   ],
   "source": [
    "labels, log_reg_model = zip(*logistic_reg_fair_metrics)\n",
    "headers, acf_model = zip(*acf_metrics)\n",
    "ACF_dict={'Metrics':headers[0:6], \n",
    "             'Baseline Model':list(log_reg_model[2:8]), 'ACF Fair Model':list(acf_model[0:6])}\n",
    "ACF_table=pd.DataFrame.from_dict(ACF_dict)\n",
    "ACF_table"
   ]
  },
  {
   "cell_type": "code",
   "execution_count": null,
   "metadata": {},
   "outputs": [
    {
     "data": {
      "image/png": "[encoded data removed]",
      "text/plain": [
       "<Figure size 720x360 with 1 Axes>"
      ]
     },
     "metadata": {
      "needs_background": "light"
     },
     "output_type": "display_data"
    }
   ],
   "source": [
    "ax = ACF_table.plot.bar(x='Metrics', rot=90, width = 0.7, color=['black', 'green'], figsize=(10,5), fontsize=12)\n",
    "plt.suptitle('Absolute difference in various fairness metrics for {}: Baseline vs ACF model'.format(choice),  \n",
    "             fontsize=15, y=1)\n",
    "\n",
    "patches, labels = ax.get_legend_handles_labels()\n",
    "ax.legend(patches, labels, loc='upper right', fontsize=12)\n",
    "\n",
    "ax.set_xlabel('Fairness Metrics', fontsize=15)\n",
    "plt.show()"
   ]
  },
  {
   "attachments": {},
   "cell_type": "markdown",
   "metadata": {},
   "source": [
    "# Explainable AI using Shap"
   ]
  },
  {
   "cell_type": "code",
   "execution_count": null,
   "metadata": {},
   "outputs": [],
   "source": [
    "model = None\n",
    "with open('picklefiles/without_reweight/raw_sklearn_lr.pkl', 'rb') as pfile:\n",
    "    model = pickle.load(pfile)"
   ]
  },
  {
   "cell_type": "code",
   "execution_count": null,
   "metadata": {},
   "outputs": [],
   "source": [
    "X = df_raw.drop([*columns_to_drop, 'Marital_status_weight'], axis=1)\n",
    "Y = df_raw.Target\n",
    "\n",
    "X_train, X_test, y_train, y_test = train_test_split(X, Y, random_state=42, test_size=0.3)"
   ]
  },
  {
   "cell_type": "code",
   "execution_count": 203,
   "metadata": {},
   "outputs": [],
   "source": [
    "x_train_scaled = scaler.fit_transform(X_train)\n",
    "x_test_scaled = scaler.fit_transform(X_test)"
   ]
  },
  {
   "cell_type": "code",
   "execution_count": 227,
   "metadata": {},
   "outputs": [
    {
     "data": {
      "text/html": [
       "\n",
       "<div id='iW1G0KL4FVNYEZPD6LIYW'>\n",
       "<div style='color: #900; text-align: center;'>\n",
       "  <b>Visualization omitted, Javascript library not loaded!</b><br>\n",
       "  Have you run `initjs()` in this notebook? If this notebook was from another\n",
       "  user you must also trust this notebook (File -> Trust notebook). If you are viewing\n",
       "  this notebook on github the Javascript has been stripped for security. If you are using\n",
       "  JupyterLab this error is because a JupyterLab extension has not yet been written.\n",
       "</div></div>\n",
       " <script>\n",
       "   if (window.SHAP) SHAP.ReactDom.render(\n",
       "    SHAP.React.createElement(SHAP.AdditiveForceVisualizer, {\"outNames\": [\"f(x)\"], \"baseValue\": -1.6859279394698827, \"outValue\": -3.8322615960209174, \"link\": \"identity\", \"featureNames\": [\"Feature 0\", \"Feature 1\", \"Feature 2\", \"Feature 3\", \"Feature 4\", \"Feature 5\", \"Feature 6\", \"Feature 7\", \"Feature 8\", \"Feature 9\", \"Feature 10\", \"Feature 11\", \"Feature 12\", \"Feature 13\", \"Feature 14\", \"Feature 15\", \"Feature 16\", \"Feature 17\", \"Feature 18\", \"Feature 19\", \"Feature 20\", \"Feature 21\", \"Feature 22\", \"Feature 23\", \"Feature 24\", \"Feature 25\", \"Feature 26\", \"Feature 27\", \"Feature 28\", \"Feature 29\", \"Feature 30\", \"Feature 31\", \"Feature 32\", \"Feature 33\", \"Feature 34\", \"Feature 35\", \"Feature 36\", \"Feature 37\"], \"features\": {\"0\": {\"effect\": -0.8207140809163002, \"value\": \"\"}, \"1\": {\"effect\": -0.2073826273686197, \"value\": \"\"}, \"2\": {\"effect\": 0.05853961648366781, \"value\": \"\"}, \"3\": {\"effect\": -0.01627384208559467, \"value\": \"\"}, \"4\": {\"effect\": 0.11402735281883528, \"value\": \"\"}, \"5\": {\"effect\": 0.3588658622633011, \"value\": \"\"}, \"6\": {\"effect\": -0.06040256532548037, \"value\": \"\"}, \"7\": {\"effect\": -0.02671623901291891, \"value\": \"\"}, \"8\": {\"effect\": -0.018725169907027047, \"value\": \"\"}, \"9\": {\"effect\": -0.05823568647035759, \"value\": \"\"}, \"10\": {\"effect\": -0.2535680180419129, \"value\": \"\"}, \"11\": {\"effect\": 0.023919200396280333, \"value\": \"\"}, \"12\": {\"effect\": -0.05546385914358591, \"value\": \"\"}, \"13\": {\"effect\": -0.715147030284061, \"value\": \"\"}, \"14\": {\"effect\": -0.12331928993492898, \"value\": \"\"}, \"15\": {\"effect\": -0.00531465582751147, \"value\": \"\"}, \"16\": {\"effect\": -0.009512644136866515, \"value\": \"\"}, \"17\": {\"effect\": -0.05545971075079112, \"value\": \"\"}, \"18\": {\"effect\": -0.027884551427754166, \"value\": \"\"}, \"19\": {\"effect\": 0.03585784632188023, \"value\": \"\"}, \"20\": {\"effect\": -0.0003039145566323843, \"value\": \"\"}, \"21\": {\"effect\": -0.0009753273250381856, \"value\": \"\"}, \"22\": {\"effect\": 0.0825741912685327, \"value\": \"\"}, \"23\": {\"effect\": -0.2985363057821029, \"value\": \"\"}, \"24\": {\"effect\": 0.019508950031660956, \"value\": \"\"}, \"25\": {\"effect\": -0.1568624624480851, \"value\": \"\"}, \"26\": {\"effect\": -0.08819045804928445, \"value\": \"\"}, \"27\": {\"effect\": -0.03419746660230055, \"value\": \"\"}, \"28\": {\"effect\": 0.2408169185740504, \"value\": \"\"}, \"29\": {\"effect\": -0.013067792141638161, \"value\": \"\"}, \"30\": {\"effect\": -0.058798810271615494, \"value\": \"\"}, \"31\": {\"effect\": 0.037973955880777906, \"value\": \"\"}, \"32\": {\"effect\": 0.07848473582888475, \"value\": \"\"}, \"33\": {\"effect\": -0.006853342991327953, \"value\": \"\"}, \"34\": {\"effect\": 0.0028490875286498354, \"value\": \"\"}, \"35\": {\"effect\": 0.03304908481478533, \"value\": \"\"}, \"36\": {\"effect\": -0.12706079699875086, \"value\": \"\"}, \"37\": {\"effect\": 0.006166189038144095, \"value\": \"\"}}, \"plot_cmap\": \"RdBu\", \"labelMargin\": 20}),\n",
       "    document.getElementById('iW1G0KL4FVNYEZPD6LIYW')\n",
       "  );\n",
       "</script>"
      ],
      "text/plain": [
       "<shap.plots._force.AdditiveForceVisualizer at 0x1ea0ecff8b0>"
      ]
     },
     "execution_count": 227,
     "metadata": {},
     "output_type": "execute_result"
    }
   ],
   "source": [
    "shap_explainer = shap.LinearExplainer(model, x_train_scaled, feature_perturbation=\"interventional\")\n",
    "shap_values = shap_explainer.shap_values(x_test_scaled)\n",
    "shap.force_plot(shap_explainer.expected_value, shap_values[1, :], )"
   ]
  },
  {
   "cell_type": "code",
   "execution_count": 231,
   "metadata": {},
   "outputs": [
    {
     "data": {
      "image/png": "[encoded data removed]",
      "text/plain": [
       "<Figure size 576x684 with 2 Axes>"
      ]
     },
     "metadata": {
      "needs_background": "light"
     },
     "output_type": "display_data"
    }
   ],
   "source": [
    "shap.summary_plot(shap_values, x_test_scaled, feature_names=X_train.columns)"
   ]
  },
  {
   "cell_type": "code",
   "execution_count": null,
   "metadata": {},
   "outputs": [],
   "source": []
  }
 ],
 "metadata": {
  "kernelspec": {
   "display_name": "base",
   "language": "python",
   "name": "python3"
  },
  "language_info": {
   "codemirror_mode": {
    "name": "ipython",
    "version": 3
   },
   "file_extension": ".py",
   "mimetype": "text/x-python",
   "name": "python",
   "nbconvert_exporter": "python",
   "pygments_lexer": "ipython3",
   "version": "3.9.12"
  },
  "orig_nbformat": 4,
  "vscode": {
   "interpreter": {
    "hash": "ad2bdc8ecc057115af97d19610ffacc2b4e99fae6737bb82f5d7fb13d2f2c186"
   }
  }
 },
 "nbformat": 4,
 "nbformat_minor": 2
}
