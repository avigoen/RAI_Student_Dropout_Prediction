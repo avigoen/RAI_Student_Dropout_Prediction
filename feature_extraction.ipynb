{
 "cells": [
  {
   "cell_type": "code",
   "execution_count": 56,
   "metadata": {},
   "outputs": [],
   "source": [
    "import pandas as pd\n",
    "import numpy as np\n",
    "\n",
    "from xgboost import XGBClassifier\n",
    "from sklearn.metrics import mutual_info_score\n",
    "from statsmodels.stats.outliers_influence import variance_inflation_factor   \n",
    "from joblib import Parallel, delayed\n",
    "\n",
    "pd.set_option(\"display.max_columns\", None)\n",
    "pd.set_option(\"display.max_rows\", None)"
   ]
  },
  {
   "cell_type": "code",
   "execution_count": 95,
   "metadata": {},
   "outputs": [
    {
     "data": {
      "text/plain": [
       "(4424, 37)"
      ]
     },
     "execution_count": 95,
     "metadata": {},
     "output_type": "execute_result"
    }
   ],
   "source": [
    "df = pd.read_csv('data.csv', sep=\";\")\n",
    "df.shape"
   ]
  },
  {
   "attachments": {},
   "cell_type": "markdown",
   "metadata": {},
   "source": [
    "## Target\n",
    "\n",
    "We converted 3-class problem into 2-class problem by merging ```Enrolled``` and ```Graduate``` as one class.\n",
    "\n",
    "The ```Target``` column gives whether the student will dropout or not where 1 means Dropout and 0 means not"
   ]
  },
  {
   "cell_type": "code",
   "execution_count": 58,
   "metadata": {},
   "outputs": [],
   "source": [
    "df.Target.replace(['Enrolled', 'Graduate'], 0, inplace=True)\n",
    "df.Target.replace('Dropout', 1, inplace=True)"
   ]
  },
  {
   "attachments": {},
   "cell_type": "markdown",
   "metadata": {},
   "source": [
    "## Nacionality\n",
    "\n",
    "- 1 - Portuguese\n",
    "- 2 - German\n",
    "- 6 - Spanish\n",
    "- 11 - Italian\n",
    "- 13 - Dutch\n",
    "- 14 - English\n",
    "- 17 - Lithuanian\n",
    "- 21 - Angolan\n",
    "- 22 - Cape Verdean\n",
    "- 24 - Guinean\n",
    "- 25 - Mozambican\n",
    "- 26 - Santomean\n",
    "- 32 - Turkish\n",
    "- 41 - Brazilian\n",
    "- 62 - Romanian\n",
    "- 100 - Moldova (Republic of)\n",
    "- 101 - Mexican\n",
    "- 103 - Ukrainian\n",
    "- 105 - Russian\n",
    "- 108 - Cuban\n",
    "- 109 - Colombian\t\n",
    "\n",
    "### Combinations:\n",
    "- 1 as \"Portuguese\"\n",
    "- remaining as \"Others\""
   ]
  },
  {
   "cell_type": "code",
   "execution_count": 59,
   "metadata": {},
   "outputs": [
    {
     "data": {
      "text/plain": [
       "0    4314\n",
       "1     110\n",
       "Name: Nacionality, dtype: int64"
      ]
     },
     "execution_count": 59,
     "metadata": {},
     "output_type": "execute_result"
    }
   ],
   "source": [
    "df.Nacionality.replace(1, 0, inplace=True)\n",
    "df.Nacionality.replace(list(range(2, 110)), 1, inplace=True)\n",
    "\n",
    "df.Nacionality.value_counts()"
   ]
  },
  {
   "cell_type": "code",
   "execution_count": 60,
   "metadata": {},
   "outputs": [
    {
     "data": {
      "text/html": [
       "<div>\n",
       "<style scoped>\n",
       "    .dataframe tbody tr th:only-of-type {\n",
       "        vertical-align: middle;\n",
       "    }\n",
       "\n",
       "    .dataframe tbody tr th {\n",
       "        vertical-align: top;\n",
       "    }\n",
       "\n",
       "    .dataframe thead th {\n",
       "        text-align: right;\n",
       "    }\n",
       "</style>\n",
       "<table border=\"1\" class=\"dataframe\">\n",
       "  <thead>\n",
       "    <tr style=\"text-align: right;\">\n",
       "      <th></th>\n",
       "      <th>International</th>\n",
       "      <th>Nacionality</th>\n",
       "    </tr>\n",
       "  </thead>\n",
       "  <tbody>\n",
       "    <tr>\n",
       "      <th>International</th>\n",
       "      <td>1.0</td>\n",
       "      <td>1.0</td>\n",
       "    </tr>\n",
       "    <tr>\n",
       "      <th>Nacionality</th>\n",
       "      <td>1.0</td>\n",
       "      <td>1.0</td>\n",
       "    </tr>\n",
       "  </tbody>\n",
       "</table>\n",
       "</div>"
      ],
      "text/plain": [
       "               International  Nacionality\n",
       "International            1.0          1.0\n",
       "Nacionality              1.0          1.0"
      ]
     },
     "execution_count": 60,
     "metadata": {},
     "output_type": "execute_result"
    }
   ],
   "source": [
    "df[['International', 'Nacionality']].corr()"
   ]
  },
  {
   "attachments": {},
   "cell_type": "markdown",
   "metadata": {},
   "source": [
    "Since there is direct relation between ```International``` and ```Nacionality```, we are dropping ```Internatinoal``` column from our dataset"
   ]
  },
  {
   "cell_type": "code",
   "execution_count": 61,
   "metadata": {},
   "outputs": [],
   "source": [
    "df.drop('International', axis=1, inplace=True)"
   ]
  },
  {
   "attachments": {},
   "cell_type": "markdown",
   "metadata": {},
   "source": [
    "We have an unsaid rule that the qualification is directly related to the occupation of the person. Therefore, we are removing the ```Father's Qualification``` and ```Mother's Occupation``` from our dataset."
   ]
  },
  {
   "cell_type": "code",
   "execution_count": 62,
   "metadata": {},
   "outputs": [],
   "source": [
    "df.drop(['Father_qualification', 'Mother_occupation'], axis=1, inplace=True)"
   ]
  },
  {
   "attachments": {},
   "cell_type": "markdown",
   "metadata": {},
   "source": [
    "## Marital Status:\n",
    "- 1 – single 2 – married 3 – widower 4 – divorced 5 – facto union 6 – legally separated\n",
    "- Since the column had 5 status, we converted them into 2 status ```Married``` and ```Un-Married```\n",
    "- Our binning is done in the following manner:\n",
    "    - Married and Facto Union as ```Married``` and is labelled as ```1```\n",
    "    - Remaining as ```Un-Married``` and is labelled as ```0```"
   ]
  },
  {
   "cell_type": "code",
   "execution_count": 63,
   "metadata": {},
   "outputs": [
    {
     "data": {
      "text/plain": [
       "0    4020\n",
       "1     404\n",
       "Name: Marital_status, dtype: int64"
      ]
     },
     "execution_count": 63,
     "metadata": {},
     "output_type": "execute_result"
    }
   ],
   "source": [
    "df.Marital_status.replace([1, 3, 4, 6], 0, inplace=True)\n",
    "df.Marital_status.replace([2, 5], 1, inplace=True)\n",
    "\n",
    "df.Marital_status.value_counts()"
   ]
  },
  {
   "attachments": {},
   "cell_type": "markdown",
   "metadata": {},
   "source": [
    "## Application Mode:\n",
    "- 1 - 1st phase - general contingent \n",
    "- 2 - Ordinance No. 612/93 \n",
    "- 5 - 1st phase - special contingent (Azores Island) \n",
    "- 7 - Holders of other higher courses \n",
    "- 10 - Ordinance No. 854-B/99 \n",
    "- 15 - International student (bachelor) \n",
    "- 16 - 1st phase - special contingent (Madeira Island) \n",
    "- 17 - 2nd phase - general contingent \n",
    "- 18 - 3rd phase - general contingent \n",
    "- 26 - Ordinance No. 533-A/99, item b2) (Different Plan) \n",
    "- 27 - Ordinance No. 533-A/99, item b3 (Other Institution) \n",
    "- 39 - Over 23 years old \n",
    "- 42 - Transfer \n",
    "- 43 - Change of course \n",
    "- 44 - Technological specialization diploma holders \n",
    "- 51 - Change of institution/course \n",
    "- 53 - Short cycle diploma holders \n",
    "- 57 - Change of institution/course (International)\n",
    "\n",
    "From above entries:\n",
    "- 2, 26, 27, 10 can be clubbed into one \"Others\"\n",
    "- 1, 5, 16 cab be combined into \"First_Phase\"\n",
    "- 43, 51, 57 can be clubbed into \"Course_Change\"\n",
    "- 7, 44, 53 can be clubbed into \"Courses_Holders\"\n",
    "- 17, 18 can be clubbed into \"Last_Phase\"\n",
    "- 15, 42 can be clubbed into \"Transfer\"\n",
    "- 39 => \"OverAge\""
   ]
  },
  {
   "cell_type": "code",
   "execution_count": 64,
   "metadata": {},
   "outputs": [],
   "source": [
    "df.Application_mode.replace([2, 26, 27, 10], 'Others', inplace=True)\n",
    "df.Application_mode.replace([1, 5, 16], \"First_Phase\", inplace=True)\n",
    "df.Application_mode.replace([43, 51, 57], \"Course_Change\", inplace=True)\n",
    "df.Application_mode.replace([7, 44, 53], \"Courses_Holders\", inplace=True)\n",
    "df.Application_mode.replace([17, 18], \"Last_Phase\", inplace=True)\n",
    "df.Application_mode.replace([15, 42], \"Transfer\", inplace=True)\n",
    "df.Application_mode.replace(39, \"OverAge\", inplace=True)"
   ]
  },
  {
   "attachments": {},
   "cell_type": "markdown",
   "metadata": {},
   "source": [
    "## Application Order\n",
    "- Application order (between 0 - first choice; and 9 last choice)\n",
    "- Combinations:\n",
    "    - 0, 1 as \"First_Choice\"\n",
    "    - 2 as \"Second_Choice\"\n",
    "    - 3, 4 as \"Second_Last_Choice\"\n",
    "    - 5, 6, 9 as \"Last_Choice\""
   ]
  },
  {
   "cell_type": "code",
   "execution_count": 65,
   "metadata": {},
   "outputs": [
    {
     "data": {
      "text/plain": [
       "1    3026\n",
       "2     547\n",
       "3     309\n",
       "4     249\n",
       "5     154\n",
       "6     137\n",
       "9       1\n",
       "0       1\n",
       "Name: Application_order, dtype: int64"
      ]
     },
     "execution_count": 65,
     "metadata": {},
     "output_type": "execute_result"
    }
   ],
   "source": [
    "df.Application_order.value_counts()"
   ]
  },
  {
   "attachments": {},
   "cell_type": "markdown",
   "metadata": {},
   "source": [
    "## Course\n",
    "- 33 - Biofuel Production Technologies \n",
    "- 171 - Animation and Multimedia Design \n",
    "- 8014 - Social Service (evening attendance) \n",
    "- 9003 - Agronomy \n",
    "- 9070 - Communication Design \n",
    "- 9085 - Veterinary Nursing \n",
    "- 9119 - Informatics Engineering \n",
    "- 9130 - Equinculture \n",
    "- 9147 - Management \n",
    "- 9238 - Social Service \n",
    "- 9254 - Tourism \n",
    "- 9500 - Nursing \n",
    "- 9556 - Oral Hygiene \n",
    "- 9670 - Advertising and Marketing Management \n",
    "- 9773 - Journalism and Communication \n",
    "- 9853 - Basic Education \n",
    "- 9991 - Management (evening attendance)\n",
    "\n",
    "Combinations: \n",
    "- 9085, 9500, 9556 as \"Medical\"\n",
    "- 9147, 9670, 9991 as \"Management\"\n",
    "- 33, 171, 9119 as \"Technology\"\n",
    "- 9003, 9130 as \"Nature\"\n",
    "- 9238, 8014 as \"Social_Service\"\n",
    "- 9070, 9773 as \"Communication\"\n",
    "- 9254, 9853 as \"Others\"\n",
    "\n",
    "We have combined the values into the above 7 courses and will be applicabe for One-Hot Encoding."
   ]
  },
  {
   "cell_type": "code",
   "execution_count": 66,
   "metadata": {},
   "outputs": [
    {
     "data": {
      "text/html": [
       "<div>\n",
       "<style scoped>\n",
       "    .dataframe tbody tr th:only-of-type {\n",
       "        vertical-align: middle;\n",
       "    }\n",
       "\n",
       "    .dataframe tbody tr th {\n",
       "        vertical-align: top;\n",
       "    }\n",
       "\n",
       "    .dataframe thead th {\n",
       "        text-align: right;\n",
       "    }\n",
       "</style>\n",
       "<table border=\"1\" class=\"dataframe\">\n",
       "  <thead>\n",
       "    <tr style=\"text-align: right;\">\n",
       "      <th>Course</th>\n",
       "      <th>Communication</th>\n",
       "      <th>Management</th>\n",
       "      <th>Medical</th>\n",
       "      <th>Nature</th>\n",
       "      <th>Others</th>\n",
       "      <th>Social_Service</th>\n",
       "      <th>Technology</th>\n",
       "    </tr>\n",
       "    <tr>\n",
       "      <th>Target</th>\n",
       "      <th></th>\n",
       "      <th></th>\n",
       "      <th></th>\n",
       "      <th></th>\n",
       "      <th></th>\n",
       "      <th></th>\n",
       "      <th></th>\n",
       "    </tr>\n",
       "  </thead>\n",
       "  <tbody>\n",
       "    <tr>\n",
       "      <th>0</th>\n",
       "      <td>405</td>\n",
       "      <td>551</td>\n",
       "      <td>948</td>\n",
       "      <td>187</td>\n",
       "      <td>263</td>\n",
       "      <td>434</td>\n",
       "      <td>215</td>\n",
       "    </tr>\n",
       "    <tr>\n",
       "      <th>1</th>\n",
       "      <td>152</td>\n",
       "      <td>365</td>\n",
       "      <td>241</td>\n",
       "      <td>164</td>\n",
       "      <td>181</td>\n",
       "      <td>136</td>\n",
       "      <td>182</td>\n",
       "    </tr>\n",
       "  </tbody>\n",
       "</table>\n",
       "</div>"
      ],
      "text/plain": [
       "Course  Communication  Management  Medical  Nature  Others  Social_Service  \\\n",
       "Target                                                                       \n",
       "0                 405         551      948     187     263             434   \n",
       "1                 152         365      241     164     181             136   \n",
       "\n",
       "Course  Technology  \n",
       "Target              \n",
       "0              215  \n",
       "1              182  "
      ]
     },
     "execution_count": 66,
     "metadata": {},
     "output_type": "execute_result"
    }
   ],
   "source": [
    "df.Course.replace([9085, 9500, 9556], \"Medical\", inplace=True)\n",
    "df.Course.replace([9147, 9670, 9991], \"Management\", inplace=True)\n",
    "df.Course.replace([33, 171, 9119], \"Technology\", inplace=True)\n",
    "df.Course.replace([9003, 9130], \"Nature\", inplace=True)\n",
    "df.Course.replace([9238, 8014], \"Social_Service\", inplace=True)\n",
    "df.Course.replace([9070, 9773], \"Communication\", inplace=True)\n",
    "df.Course.replace([9254, 9853], \"Others\", inplace=True)\n",
    "\n",
    "pd.crosstab(df.Target, df.Course)"
   ]
  },
  {
   "attachments": {},
   "cell_type": "markdown",
   "metadata": {},
   "source": [
    "## Previous Qualification\n",
    "\n",
    "- 1 - Secondary education \n",
    "- 2 - Higher education - bachelor's degree \n",
    "- 3 - Higher education - degree \n",
    "- 4 - Higher education - master's \n",
    "- 5 - Higher education - doctorate \n",
    "- 6 - Frequency of higher education \n",
    "- 9 - 12th year of schooling - not completed \n",
    "- 10 - 11th year of schooling - not completed \n",
    "- 12 - Other - 11th year of schooling \n",
    "- 14 - 10th year of schooling \n",
    "- 15 - 10th year of schooling - not completed \n",
    "- 19 - Basic education 3rd cycle (9th/10th/11th year) or equiv. \n",
    "- 38 - Basic education 2nd cycle (6th/7th/8th year) or equiv. \n",
    "- 39 - Technological specialization course \n",
    "- 40 - Higher education - degree (1st cycle) \n",
    "- 42 - Professional higher technical course \n",
    "- 43 - Higher education - master (2nd cycle)\n",
    "\n",
    "We have combined the values into 4 generic labels "
   ]
  },
  {
   "cell_type": "code",
   "execution_count": 67,
   "metadata": {},
   "outputs": [
    {
     "data": {
      "text/html": [
       "<div>\n",
       "<style scoped>\n",
       "    .dataframe tbody tr th:only-of-type {\n",
       "        vertical-align: middle;\n",
       "    }\n",
       "\n",
       "    .dataframe tbody tr th {\n",
       "        vertical-align: top;\n",
       "    }\n",
       "\n",
       "    .dataframe thead th {\n",
       "        text-align: right;\n",
       "    }\n",
       "</style>\n",
       "<table border=\"1\" class=\"dataframe\">\n",
       "  <thead>\n",
       "    <tr style=\"text-align: right;\">\n",
       "      <th>Previous_qualification</th>\n",
       "      <th>Basic_Education</th>\n",
       "      <th>Graduation_plus</th>\n",
       "      <th>High_School_Eq</th>\n",
       "    </tr>\n",
       "    <tr>\n",
       "      <th>Target</th>\n",
       "      <th></th>\n",
       "      <th></th>\n",
       "      <th></th>\n",
       "    </tr>\n",
       "  </thead>\n",
       "  <tbody>\n",
       "    <tr>\n",
       "      <th>0</th>\n",
       "      <td>5</td>\n",
       "      <td>281</td>\n",
       "      <td>2717</td>\n",
       "    </tr>\n",
       "    <tr>\n",
       "      <th>1</th>\n",
       "      <td>5</td>\n",
       "      <td>194</td>\n",
       "      <td>1222</td>\n",
       "    </tr>\n",
       "  </tbody>\n",
       "</table>\n",
       "</div>"
      ],
      "text/plain": [
       "Previous_qualification  Basic_Education  Graduation_plus  High_School_Eq\n",
       "Target                                                                  \n",
       "0                                     5              281            2717\n",
       "1                                     5              194            1222"
      ]
     },
     "execution_count": 67,
     "metadata": {},
     "output_type": "execute_result"
    }
   ],
   "source": [
    "df.Previous_qualification.replace([35, 34], 'Others', inplace=True)\n",
    "df.Previous_qualification.replace([2, 3, 4, 5, 6, 18, 22, 39, 40, 41, 42, 43, 44], 'Graduation_plus', inplace=True)\n",
    "df.Previous_qualification.replace([1, 9, 10, 12, 19, 27], 'High_School_Eq', inplace=True)\n",
    "df.Previous_qualification.replace([11, 14, 15, 26, 29, 30, 36, 37, 38], 'Basic_Education', inplace=True)\n",
    "\n",
    "pd.crosstab(df.Target, df.Previous_qualification)"
   ]
  },
  {
   "attachments": {},
   "cell_type": "markdown",
   "metadata": {},
   "source": [
    "## Mother's Qualification\n",
    "\n",
    "- 1 - Secondary Education - 12th Year of Schooling or Eq. \n",
    "- 2 - Higher Education - Bachelor's Degree \n",
    "- 3 - Higher Education - Degree \n",
    "- 4 - Higher Education - Master's \n",
    "- 5 - Higher Education - Doctorate \n",
    "- 6 - Frequency of Higher Education \n",
    "- 9 - 12th Year of Schooling - Not Completed \n",
    "- 10 - 11th Year of Schooling - Not Completed \n",
    "- 11 - 7th Year (Old) \n",
    "- 12 - Other - 11th Year of Schooling \n",
    "- 14 - 10th Year of Schooling \n",
    "- 18 - General commerce course \n",
    "- 19 - Basic Education 3rd Cycle (9th/10th/11th Year) or Equiv. \n",
    "- 22 - Technical-professional course \n",
    "- 26 - 7th year of schooling \n",
    "- 27 - 2nd cycle of the general high school course \n",
    "- 29 - 9th Year of Schooling - Not Completed \n",
    "- 30 - 8th year of schooling \n",
    "- 34 - Unknown \n",
    "- 35 - Can't read or write \n",
    "- 36 - Can read without having a 4th year of schooling \n",
    "- 37 - Basic education 1st cycle (4th/5th year) or equiv. \n",
    "- 38 - Basic Education 2nd Cycle (6th/7th/8th Year) or Equiv. \n",
    "- 39 - Technological specialization course \n",
    "- 40 - Higher education - degree (1st cycle) \n",
    "- 41 - Specialized higher studies course \n",
    "- 42 - Professional higher technical course \n",
    "- 43 - Higher Education - Master (2nd cycle) \n",
    "- 44 - Higher Education - Doctorate (3rd cycle)"
   ]
  },
  {
   "cell_type": "code",
   "execution_count": 68,
   "metadata": {},
   "outputs": [
    {
     "data": {
      "text/html": [
       "<div>\n",
       "<style scoped>\n",
       "    .dataframe tbody tr th:only-of-type {\n",
       "        vertical-align: middle;\n",
       "    }\n",
       "\n",
       "    .dataframe tbody tr th {\n",
       "        vertical-align: top;\n",
       "    }\n",
       "\n",
       "    .dataframe thead th {\n",
       "        text-align: right;\n",
       "    }\n",
       "</style>\n",
       "<table border=\"1\" class=\"dataframe\">\n",
       "  <thead>\n",
       "    <tr style=\"text-align: right;\">\n",
       "      <th>Mother_qualification</th>\n",
       "      <th>Basic_Education</th>\n",
       "      <th>Graduation_plus</th>\n",
       "      <th>High_School_Eq</th>\n",
       "      <th>Others</th>\n",
       "    </tr>\n",
       "    <tr>\n",
       "      <th>Target</th>\n",
       "      <th></th>\n",
       "      <th></th>\n",
       "      <th></th>\n",
       "      <th></th>\n",
       "    </tr>\n",
       "  </thead>\n",
       "  <tbody>\n",
       "    <tr>\n",
       "      <th>0</th>\n",
       "      <td>1056</td>\n",
       "      <td>437</td>\n",
       "      <td>1475</td>\n",
       "      <td>35</td>\n",
       "    </tr>\n",
       "    <tr>\n",
       "      <th>1</th>\n",
       "      <td>530</td>\n",
       "      <td>192</td>\n",
       "      <td>601</td>\n",
       "      <td>98</td>\n",
       "    </tr>\n",
       "  </tbody>\n",
       "</table>\n",
       "</div>"
      ],
      "text/plain": [
       "Mother_qualification  Basic_Education  Graduation_plus  High_School_Eq  Others\n",
       "Target                                                                        \n",
       "0                                1056              437            1475      35\n",
       "1                                 530              192             601      98"
      ]
     },
     "execution_count": 68,
     "metadata": {},
     "output_type": "execute_result"
    }
   ],
   "source": [
    "df.Mother_qualification.replace([35, 34], 'Others', inplace=True)\n",
    "df.Mother_qualification.replace([2, 3, 4, 5, 6, 18, 22, 39, 40, 41, 42, 43, 44], 'Graduation_plus', inplace=True)\n",
    "df.Mother_qualification.replace([1, 9, 10, 12, 19, 27], 'High_School_Eq', inplace=True)\n",
    "df.Mother_qualification.replace([11, 14, 26, 29, 30, 36, 37, 38], 'Basic_Education', inplace=True)\n",
    "\n",
    "pd.crosstab(df.Target, df.Mother_qualification)"
   ]
  },
  {
   "attachments": {},
   "cell_type": "markdown",
   "metadata": {},
   "source": [
    "## Father's Occupation"
   ]
  },
  {
   "cell_type": "code",
   "execution_count": 71,
   "metadata": {},
   "outputs": [
    {
     "data": {
      "text/html": [
       "<div>\n",
       "<style scoped>\n",
       "    .dataframe tbody tr th:only-of-type {\n",
       "        vertical-align: middle;\n",
       "    }\n",
       "\n",
       "    .dataframe tbody tr th {\n",
       "        vertical-align: top;\n",
       "    }\n",
       "\n",
       "    .dataframe thead th {\n",
       "        text-align: right;\n",
       "    }\n",
       "</style>\n",
       "<table border=\"1\" class=\"dataframe\">\n",
       "  <thead>\n",
       "    <tr style=\"text-align: right;\">\n",
       "      <th>Father_occupation</th>\n",
       "      <th>Highly_Skilled</th>\n",
       "      <th>Others</th>\n",
       "      <th>Skilled</th>\n",
       "      <th>Unskilled</th>\n",
       "    </tr>\n",
       "    <tr>\n",
       "      <th>Target</th>\n",
       "      <th></th>\n",
       "      <th></th>\n",
       "      <th></th>\n",
       "      <th></th>\n",
       "    </tr>\n",
       "  </thead>\n",
       "  <tbody>\n",
       "    <tr>\n",
       "      <th>0</th>\n",
       "      <td>409</td>\n",
       "      <td>71</td>\n",
       "      <td>1801</td>\n",
       "      <td>722</td>\n",
       "    </tr>\n",
       "    <tr>\n",
       "      <th>1</th>\n",
       "      <td>205</td>\n",
       "      <td>141</td>\n",
       "      <td>748</td>\n",
       "      <td>327</td>\n",
       "    </tr>\n",
       "  </tbody>\n",
       "</table>\n",
       "</div>"
      ],
      "text/plain": [
       "Father_occupation  Highly_Skilled  Others  Skilled  Unskilled\n",
       "Target                                                       \n",
       "0                             409      71     1801        722\n",
       "1                             205     141      748        327"
      ]
     },
     "execution_count": 71,
     "metadata": {},
     "output_type": "execute_result"
    }
   ],
   "source": [
    "df.Father_occupation.replace([0, 90, 99], \"Others\", inplace=True)\n",
    "df.Father_occupation.replace([9, 151, 152, 153, 163, 175, 192, 193, 194, 195], \"Unskilled\", inplace=True)\n",
    "df.Father_occupation.replace([3, 4, 5, 6, 7, 8, 131, 132, 134, 135, 141, 143, 144, 154, 161, 171, 172, 174, 181, 182, 183], \"Skilled\", inplace=True)\n",
    "df.Father_occupation.replace([1, 2, 10, 101, 102, 103, 112, 114, 121, 122, 123, 124], \"Highly_Skilled\", inplace=True)\n",
    "\n",
    "pd.crosstab(df.Target, df.Father_occupation)"
   ]
  },
  {
   "cell_type": "code",
   "execution_count": 73,
   "metadata": {},
   "outputs": [
    {
     "data": {
      "text/plain": [
       "['Father_occupation',\n",
       " 'Mother_qualification',\n",
       " 'Previous_qualification',\n",
       " 'Course',\n",
       " 'Application_mode']"
      ]
     },
     "execution_count": 73,
     "metadata": {},
     "output_type": "execute_result"
    }
   ],
   "source": [
    "categorical_columns = ['Father_occupation', 'Mother_qualification', 'Previous_qualification', 'Course', 'Application_mode']\n",
    "categorical_columns"
   ]
  },
  {
   "cell_type": "code",
   "execution_count": 74,
   "metadata": {},
   "outputs": [],
   "source": [
    "dummied_df = pd.get_dummies(df, columns=categorical_columns)"
   ]
  },
  {
   "cell_type": "code",
   "execution_count": 75,
   "metadata": {},
   "outputs": [
    {
     "data": {
      "text/plain": [
       "(4424, 54)"
      ]
     },
     "execution_count": 75,
     "metadata": {},
     "output_type": "execute_result"
    }
   ],
   "source": [
    "dummied_df.shape"
   ]
  },
  {
   "attachments": {},
   "cell_type": "markdown",
   "metadata": {},
   "source": [
    "# Calculate VIF for continouous features"
   ]
  },
  {
   "cell_type": "code",
   "execution_count": 77,
   "metadata": {},
   "outputs": [],
   "source": [
    "def calculate_vif_(X, thresh=5.0):\n",
    "    variables = [X.columns[i] for i in range(X.shape[1])]\n",
    "    dropped=True\n",
    "    while dropped:\n",
    "        dropped=False\n",
    "        \n",
    "        vif = Parallel(n_jobs=-1,verbose=5)(delayed(variance_inflation_factor)(X[variables].values, ix) \n",
    "                                            for ix in range(len(variables)))\n",
    " \n",
    "        maxloc = vif.index(max(vif))\n",
    "        if max(vif) > thresh:\n",
    "            print ('VIF is ' + str(max(vif)) + ' ' + 'dropping ' + X[variables].columns[maxloc])\n",
    "            \n",
    "            variables.pop(maxloc)\n",
    "            dropped=True\n",
    " \n",
    "    return variables"
   ]
  },
  {
   "cell_type": "code",
   "execution_count": 78,
   "metadata": {},
   "outputs": [
    {
     "name": "stderr",
     "output_type": "stream",
     "text": [
      "[Parallel(n_jobs=-1)]: Using backend LokyBackend with 8 concurrent workers.\n",
      "[Parallel(n_jobs=-1)]: Done   5 out of  16 | elapsed:    0.0s remaining:    0.0s\n",
      "[Parallel(n_jobs=-1)]: Done   9 out of  16 | elapsed:    0.0s remaining:    0.0s\n",
      "[Parallel(n_jobs=-1)]: Done  13 out of  16 | elapsed:    0.0s remaining:    0.0s\n",
      "[Parallel(n_jobs=-1)]: Done  16 out of  16 | elapsed:    0.0s finished\n",
      "[Parallel(n_jobs=-1)]: Using backend LokyBackend with 8 concurrent workers.\n",
      "[Parallel(n_jobs=-1)]: Done   4 out of  15 | elapsed:    0.0s remaining:    0.0s\n",
      "[Parallel(n_jobs=-1)]: Done   8 out of  15 | elapsed:    0.0s remaining:    0.0s\n",
      "[Parallel(n_jobs=-1)]: Done  12 out of  15 | elapsed:    0.0s remaining:    0.0s\n",
      "[Parallel(n_jobs=-1)]: Done  15 out of  15 | elapsed:    0.0s finished\n",
      "[Parallel(n_jobs=-1)]: Using backend LokyBackend with 8 concurrent workers.\n",
      "[Parallel(n_jobs=-1)]: Done   2 out of  14 | elapsed:    0.0s remaining:    0.0s\n",
      "[Parallel(n_jobs=-1)]: Done   5 out of  14 | elapsed:    0.0s remaining:    0.0s\n",
      "[Parallel(n_jobs=-1)]: Done   8 out of  14 | elapsed:    0.0s remaining:    0.0s\n",
      "[Parallel(n_jobs=-1)]: Done  11 out of  14 | elapsed:    0.0s remaining:    0.0s\n",
      "[Parallel(n_jobs=-1)]: Done  14 out of  14 | elapsed:    0.0s remaining:    0.0s\n",
      "[Parallel(n_jobs=-1)]: Done  14 out of  14 | elapsed:    0.0s finished\n",
      "[Parallel(n_jobs=-1)]: Using backend LokyBackend with 8 concurrent workers.\n",
      "[Parallel(n_jobs=-1)]: Done   4 out of  13 | elapsed:    0.0s remaining:    0.0s\n",
      "[Parallel(n_jobs=-1)]: Done   7 out of  13 | elapsed:    0.0s remaining:    0.0s\n",
      "[Parallel(n_jobs=-1)]: Done  10 out of  13 | elapsed:    0.0s remaining:    0.0s\n",
      "[Parallel(n_jobs=-1)]: Done  13 out of  13 | elapsed:    0.0s remaining:    0.0s\n",
      "[Parallel(n_jobs=-1)]: Done  13 out of  13 | elapsed:    0.0s finished\n",
      "[Parallel(n_jobs=-1)]: Using backend LokyBackend with 8 concurrent workers.\n",
      "[Parallel(n_jobs=-1)]: Done   3 out of  12 | elapsed:    0.0s remaining:    0.0s\n",
      "[Parallel(n_jobs=-1)]: Done   6 out of  12 | elapsed:    0.0s remaining:    0.0s\n",
      "[Parallel(n_jobs=-1)]: Done   9 out of  12 | elapsed:    0.0s remaining:    0.0s\n",
      "[Parallel(n_jobs=-1)]: Done  12 out of  12 | elapsed:    0.0s remaining:    0.0s\n",
      "[Parallel(n_jobs=-1)]: Done  12 out of  12 | elapsed:    0.0s finished\n",
      "[Parallel(n_jobs=-1)]: Using backend LokyBackend with 8 concurrent workers.\n",
      "[Parallel(n_jobs=-1)]: Done   2 out of  11 | elapsed:    0.0s remaining:    0.0s\n",
      "[Parallel(n_jobs=-1)]: Done   5 out of  11 | elapsed:    0.0s remaining:    0.0s\n",
      "[Parallel(n_jobs=-1)]: Done   8 out of  11 | elapsed:    0.0s remaining:    0.0s\n",
      "[Parallel(n_jobs=-1)]: Done  11 out of  11 | elapsed:    0.0s remaining:    0.0s\n",
      "[Parallel(n_jobs=-1)]: Done  11 out of  11 | elapsed:    0.0s finished\n",
      "[Parallel(n_jobs=-1)]: Using backend LokyBackend with 8 concurrent workers.\n"
     ]
    },
    {
     "name": "stdout",
     "output_type": "stream",
     "text": [
      "VIF is 170.1527030518737 dropping Curricular_units_1st_sem_enrolled\n",
      "VIF is 36.867565118244755 dropping Curricular_units_1st_sem_approved\n",
      "VIF is 27.033349563788548 dropping Curricular_units_2nd_sem_enrolled\n",
      "VIF is 24.559100874617233 dropping Curricular_units_2nd_sem_grade\n",
      "VIF is 16.179782871743857 dropping Curricular_units_1st_sem_evaluations\n",
      "VIF is 14.475932439124119 dropping Curricular_units_1st_sem_grade\n",
      "VIF is 11.361186532510192 dropping Unemployment_rate\n",
      "VIF is 10.425118633978823 dropping Curricular_units_2nd_sem_credited\n",
      "VIF is 6.439192750135191 dropping Curricular_units_2nd_sem_evaluations\n"
     ]
    },
    {
     "name": "stderr",
     "output_type": "stream",
     "text": [
      "[Parallel(n_jobs=-1)]: Done   4 out of  10 | elapsed:    0.0s remaining:    0.0s\n",
      "[Parallel(n_jobs=-1)]: Done   7 out of  10 | elapsed:    0.0s remaining:    0.0s\n",
      "[Parallel(n_jobs=-1)]: Done  10 out of  10 | elapsed:    0.0s remaining:    0.0s\n",
      "[Parallel(n_jobs=-1)]: Done  10 out of  10 | elapsed:    0.0s finished\n",
      "[Parallel(n_jobs=-1)]: Using backend LokyBackend with 8 concurrent workers.\n",
      "[Parallel(n_jobs=-1)]: Done   2 out of   9 | elapsed:    0.0s remaining:    0.0s\n",
      "[Parallel(n_jobs=-1)]: Done   4 out of   9 | elapsed:    0.0s remaining:    0.0s\n",
      "[Parallel(n_jobs=-1)]: Done   6 out of   9 | elapsed:    0.0s remaining:    0.0s\n",
      "[Parallel(n_jobs=-1)]: Done   9 out of   9 | elapsed:    0.0s finished\n",
      "[Parallel(n_jobs=-1)]: Using backend LokyBackend with 8 concurrent workers.\n",
      "[Parallel(n_jobs=-1)]: Done   3 out of   8 | elapsed:    0.0s remaining:    0.0s\n",
      "[Parallel(n_jobs=-1)]: Done   5 out of   8 | elapsed:    0.0s remaining:    0.0s\n",
      "[Parallel(n_jobs=-1)]: Done   8 out of   8 | elapsed:    0.0s finished\n",
      "[Parallel(n_jobs=-1)]: Using backend LokyBackend with 8 concurrent workers.\n",
      "[Parallel(n_jobs=-1)]: Done   2 out of   7 | elapsed:    0.0s remaining:    0.0s\n",
      "[Parallel(n_jobs=-1)]: Done   4 out of   7 | elapsed:    0.0s remaining:    0.0s\n",
      "[Parallel(n_jobs=-1)]: Done   7 out of   7 | elapsed:    0.0s finished\n"
     ]
    }
   ],
   "source": [
    "df_numerical = df[['enrollment_age', 'Curricular_units_1st_sem_credited', 'Curricular_units_1st_sem_enrolled',\n",
    "       'Curricular_units_1st_sem_evaluations',\n",
    "       'Curricular_units_1st_sem_approved', 'Curricular_units_1st_sem_grade',\n",
    "       'Curricular_units_1st_sem_without_evaluations',\n",
    "       'Curricular_units_2nd_sem_credited',\n",
    "       'Curricular_units_2nd_sem_enrolled',\n",
    "       'Curricular_units_2nd_sem_evaluations',\n",
    "       'Curricular_units_2nd_sem_approved', 'Curricular_units_2nd_sem_grade',\n",
    "       'Curricular_units_2nd_sem_without_evaluations', 'Unemployment_rate',\n",
    "       'Inflation_rate', 'GDP']]\n",
    "\n",
    "rem_cols = calculate_vif_(df_numerical)\n",
    "\n",
    "col_to_remove = df_numerical.columns[~df_numerical.columns.isin(rem_cols)]\n",
    "updated_df = dummied_df.drop(columns=col_to_remove)"
   ]
  },
  {
   "cell_type": "code",
   "execution_count": 80,
   "metadata": {},
   "outputs": [
    {
     "name": "stdout",
     "output_type": "stream",
     "text": [
      "['enrollment_age']\n"
     ]
    },
    {
     "name": "stderr",
     "output_type": "stream",
     "text": [
      "c:\\ProgramData\\Anaconda3\\lib\\site-packages\\sklearn\\metrics\\cluster\\_supervised.py:65: UserWarning: Clustering metrics expects discrete values but received binary values for label, and continuous values for target\n",
      "  warnings.warn(msg, UserWarning)\n",
      "c:\\ProgramData\\Anaconda3\\lib\\site-packages\\sklearn\\metrics\\cluster\\_supervised.py:65: UserWarning: Clustering metrics expects discrete values but received binary values for label, and continuous values for target\n",
      "  warnings.warn(msg, UserWarning)\n",
      "c:\\ProgramData\\Anaconda3\\lib\\site-packages\\sklearn\\metrics\\cluster\\_supervised.py:65: UserWarning: Clustering metrics expects discrete values but received binary values for label, and continuous values for target\n",
      "  warnings.warn(msg, UserWarning)\n",
      "c:\\ProgramData\\Anaconda3\\lib\\site-packages\\sklearn\\metrics\\cluster\\_supervised.py:65: UserWarning: Clustering metrics expects discrete values but received binary values for label, and continuous values for target\n",
      "  warnings.warn(msg, UserWarning)\n"
     ]
    }
   ],
   "source": [
    "dropped_df = updated_df.drop('Marital_status', axis=1)\n",
    "proxy_features = []\n",
    "for i in dropped_df.columns:\n",
    "    mi = mutual_info_score(updated_df.Marital_status, dropped_df[i])\n",
    "    if mi > 0.1:\n",
    "        proxy_features.append(i)\n",
    "print(proxy_features)"
   ]
  },
  {
   "attachments": {},
   "cell_type": "markdown",
   "metadata": {},
   "source": [
    "## Extract features from dataset infortant to the Target"
   ]
  },
  {
   "cell_type": "code",
   "execution_count": 81,
   "metadata": {},
   "outputs": [
    {
     "data": {
      "text/plain": [
       "XGBClassifier(base_score=None, booster=None, callbacks=None,\n",
       "              colsample_bylevel=None, colsample_bynode=None,\n",
       "              colsample_bytree=None, early_stopping_rounds=None,\n",
       "              enable_categorical=False, eval_metric=None, feature_types=None,\n",
       "              gamma=None, gpu_id=None, grow_policy=None, importance_type=None,\n",
       "              interaction_constraints=None, learning_rate=None, max_bin=None,\n",
       "              max_cat_threshold=None, max_cat_to_onehot=None,\n",
       "              max_delta_step=None, max_depth=None, max_leaves=None,\n",
       "              min_child_weight=None, missing=nan, monotone_constraints=None,\n",
       "              n_estimators=100, n_jobs=None, num_parallel_tree=None,\n",
       "              predictor=None, random_state=None, ...)"
      ]
     },
     "execution_count": 81,
     "metadata": {},
     "output_type": "execute_result"
    }
   ],
   "source": [
    "X = updated_df.drop('Target', axis=1)\n",
    "Y = updated_df.Target\n",
    "\n",
    "\n",
    "model = XGBClassifier()\n",
    "model.fit(X, Y)"
   ]
  },
  {
   "cell_type": "code",
   "execution_count": 82,
   "metadata": {},
   "outputs": [],
   "source": [
    "imp_df = pd.DataFrame({'Colname': X.columns, 'importance': model.feature_importances_})\n",
    "imp_df.sort_values(by='importance', ascending=False, inplace=True)"
   ]
  },
  {
   "cell_type": "code",
   "execution_count": 96,
   "metadata": {},
   "outputs": [
    {
     "data": {
      "text/plain": [
       "(44, 2)"
      ]
     },
     "execution_count": 96,
     "metadata": {},
     "output_type": "execute_result"
    }
   ],
   "source": [
    "imp_df.shape"
   ]
  },
  {
   "cell_type": "code",
   "execution_count": 88,
   "metadata": {},
   "outputs": [],
   "source": [
    "cols_to_remove = imp_df[imp_df.importance == 0.0].Colname.values"
   ]
  },
  {
   "cell_type": "code",
   "execution_count": 94,
   "metadata": {},
   "outputs": [
    {
     "data": {
      "text/plain": [
       "array(['Previous_qualification_High_School_Eq',\n",
       "       'Previous_qualification_Basic_Education',\n",
       "       'Application_mode_Others'], dtype=object)"
      ]
     },
     "execution_count": 94,
     "metadata": {},
     "output_type": "execute_result"
    }
   ],
   "source": [
    "cols_to_remove"
   ]
  },
  {
   "attachments": {},
   "cell_type": "markdown",
   "metadata": {},
   "source": [
    "## Create final CSV for easy usage"
   ]
  },
  {
   "cell_type": "code",
   "execution_count": 92,
   "metadata": {},
   "outputs": [
    {
     "name": "stderr",
     "output_type": "stream",
     "text": [
      "C:\\Users\\avina\\AppData\\Local\\Temp\\ipykernel_128728\\4118257430.py:2: SettingWithCopyWarning: \n",
      "A value is trying to be set on a copy of a slice from a DataFrame.\n",
      "Try using .loc[row_indexer,col_indexer] = value instead\n",
      "\n",
      "See the caveats in the documentation: https://pandas.pydata.org/pandas-docs/stable/user_guide/indexing.html#returning-a-view-versus-a-copy\n",
      "  final_df['Target'] = updated_df.Target\n"
     ]
    }
   ],
   "source": [
    "final_df = updated_df[imp_df.Colname[~imp_df.Colname.isin(cols_to_remove)].values]\n",
    "final_df['Target'] = updated_df.Target\n",
    "\n",
    "final_df.to_csv(\"dataset_featured_v2.csv\", index=False)"
   ]
  },
  {
   "cell_type": "code",
   "execution_count": 93,
   "metadata": {},
   "outputs": [
    {
     "data": {
      "text/plain": [
       "(4424, 42)"
      ]
     },
     "execution_count": 93,
     "metadata": {},
     "output_type": "execute_result"
    }
   ],
   "source": [
    "final_df.shape"
   ]
  },
  {
   "cell_type": "code",
   "execution_count": null,
   "metadata": {},
   "outputs": [],
   "source": []
  }
 ],
 "metadata": {
  "kernelspec": {
   "display_name": "base",
   "language": "python",
   "name": "python3"
  },
  "language_info": {
   "codemirror_mode": {
    "name": "ipython",
    "version": 3
   },
   "file_extension": ".py",
   "mimetype": "text/x-python",
   "name": "python",
   "nbconvert_exporter": "python",
   "pygments_lexer": "ipython3",
   "version": "3.9.12"
  },
  "orig_nbformat": 4,
  "vscode": {
   "interpreter": {
    "hash": "ad2bdc8ecc057115af97d19610ffacc2b4e99fae6737bb82f5d7fb13d2f2c186"
   }
  }
 },
 "nbformat": 4,
 "nbformat_minor": 2
}
